{
  "cells": [
    {
      "cell_type": "code",
      "execution_count": 78,
      "metadata": {
        "colab": {
          "base_uri": "https://localhost:8080/",
          "height": 959
        },
        "id": "bvEjhBZaahC4",
        "outputId": "8ae82012-5e5b-40f9-b470-0fa8ea360773"
      },
      "outputs": [
        {
          "output_type": "execute_result",
          "data": {
            "text/plain": [
              "            country  gdp_per_capita  life_satisfaction\n",
              "0            Brazil        8669.998                6.4\n",
              "1            Mexico        9009.280                6.5\n",
              "2            Russia        9054.914                5.8\n",
              "3            Turkey        9437.372                5.5\n",
              "4            Poland       12495.334                6.1\n",
              "5            Latvia       13618.569                5.9\n",
              "6         Lithuania       14210.280                5.9\n",
              "7   Slovak Republic       15991.736                6.2\n",
              "8    Czech Republic       17256.918                6.7\n",
              "9           Estonia       17288.083                5.7\n",
              "10           Greece       18064.288                5.4\n",
              "11         Portugal       19121.592                5.4\n",
              "12         Slovenia       20732.482                5.9\n",
              "13            Spain       25864.721                6.3\n",
              "14            Korea       27195.197                5.9\n",
              "15            Italy       29866.581                6.0\n",
              "16            Japan       32485.545                5.9\n",
              "17           Israel       35343.336                7.2\n",
              "18      New Zealand       37044.891                7.3\n",
              "19           France       37675.006                6.5\n",
              "20          Belgium       40106.632                6.9\n",
              "21          Germany       40996.511                7.0\n",
              "22          Finland       41973.988                7.6\n",
              "23           Canada       43331.961                7.4\n",
              "24      Netherlands       43603.115                7.4\n",
              "25          Austria       43724.031                7.1\n",
              "26   United Kingdom       43770.688                6.8\n",
              "27           Sweden       49866.266                7.3\n",
              "28          Iceland       50854.583                7.5"
            ],
            "text/html": [
              "\n",
              "  <div id=\"df-3e862eb3-2960-4f36-a19e-b849a9f2bcbb\">\n",
              "    <div class=\"colab-df-container\">\n",
              "      <div>\n",
              "<style scoped>\n",
              "    .dataframe tbody tr th:only-of-type {\n",
              "        vertical-align: middle;\n",
              "    }\n",
              "\n",
              "    .dataframe tbody tr th {\n",
              "        vertical-align: top;\n",
              "    }\n",
              "\n",
              "    .dataframe thead th {\n",
              "        text-align: right;\n",
              "    }\n",
              "</style>\n",
              "<table border=\"1\" class=\"dataframe\">\n",
              "  <thead>\n",
              "    <tr style=\"text-align: right;\">\n",
              "      <th></th>\n",
              "      <th>country</th>\n",
              "      <th>gdp_per_capita</th>\n",
              "      <th>life_satisfaction</th>\n",
              "    </tr>\n",
              "  </thead>\n",
              "  <tbody>\n",
              "    <tr>\n",
              "      <th>0</th>\n",
              "      <td>Brazil</td>\n",
              "      <td>8669.998</td>\n",
              "      <td>6.4</td>\n",
              "    </tr>\n",
              "    <tr>\n",
              "      <th>1</th>\n",
              "      <td>Mexico</td>\n",
              "      <td>9009.280</td>\n",
              "      <td>6.5</td>\n",
              "    </tr>\n",
              "    <tr>\n",
              "      <th>2</th>\n",
              "      <td>Russia</td>\n",
              "      <td>9054.914</td>\n",
              "      <td>5.8</td>\n",
              "    </tr>\n",
              "    <tr>\n",
              "      <th>3</th>\n",
              "      <td>Turkey</td>\n",
              "      <td>9437.372</td>\n",
              "      <td>5.5</td>\n",
              "    </tr>\n",
              "    <tr>\n",
              "      <th>4</th>\n",
              "      <td>Poland</td>\n",
              "      <td>12495.334</td>\n",
              "      <td>6.1</td>\n",
              "    </tr>\n",
              "    <tr>\n",
              "      <th>5</th>\n",
              "      <td>Latvia</td>\n",
              "      <td>13618.569</td>\n",
              "      <td>5.9</td>\n",
              "    </tr>\n",
              "    <tr>\n",
              "      <th>6</th>\n",
              "      <td>Lithuania</td>\n",
              "      <td>14210.280</td>\n",
              "      <td>5.9</td>\n",
              "    </tr>\n",
              "    <tr>\n",
              "      <th>7</th>\n",
              "      <td>Slovak Republic</td>\n",
              "      <td>15991.736</td>\n",
              "      <td>6.2</td>\n",
              "    </tr>\n",
              "    <tr>\n",
              "      <th>8</th>\n",
              "      <td>Czech Republic</td>\n",
              "      <td>17256.918</td>\n",
              "      <td>6.7</td>\n",
              "    </tr>\n",
              "    <tr>\n",
              "      <th>9</th>\n",
              "      <td>Estonia</td>\n",
              "      <td>17288.083</td>\n",
              "      <td>5.7</td>\n",
              "    </tr>\n",
              "    <tr>\n",
              "      <th>10</th>\n",
              "      <td>Greece</td>\n",
              "      <td>18064.288</td>\n",
              "      <td>5.4</td>\n",
              "    </tr>\n",
              "    <tr>\n",
              "      <th>11</th>\n",
              "      <td>Portugal</td>\n",
              "      <td>19121.592</td>\n",
              "      <td>5.4</td>\n",
              "    </tr>\n",
              "    <tr>\n",
              "      <th>12</th>\n",
              "      <td>Slovenia</td>\n",
              "      <td>20732.482</td>\n",
              "      <td>5.9</td>\n",
              "    </tr>\n",
              "    <tr>\n",
              "      <th>13</th>\n",
              "      <td>Spain</td>\n",
              "      <td>25864.721</td>\n",
              "      <td>6.3</td>\n",
              "    </tr>\n",
              "    <tr>\n",
              "      <th>14</th>\n",
              "      <td>Korea</td>\n",
              "      <td>27195.197</td>\n",
              "      <td>5.9</td>\n",
              "    </tr>\n",
              "    <tr>\n",
              "      <th>15</th>\n",
              "      <td>Italy</td>\n",
              "      <td>29866.581</td>\n",
              "      <td>6.0</td>\n",
              "    </tr>\n",
              "    <tr>\n",
              "      <th>16</th>\n",
              "      <td>Japan</td>\n",
              "      <td>32485.545</td>\n",
              "      <td>5.9</td>\n",
              "    </tr>\n",
              "    <tr>\n",
              "      <th>17</th>\n",
              "      <td>Israel</td>\n",
              "      <td>35343.336</td>\n",
              "      <td>7.2</td>\n",
              "    </tr>\n",
              "    <tr>\n",
              "      <th>18</th>\n",
              "      <td>New Zealand</td>\n",
              "      <td>37044.891</td>\n",
              "      <td>7.3</td>\n",
              "    </tr>\n",
              "    <tr>\n",
              "      <th>19</th>\n",
              "      <td>France</td>\n",
              "      <td>37675.006</td>\n",
              "      <td>6.5</td>\n",
              "    </tr>\n",
              "    <tr>\n",
              "      <th>20</th>\n",
              "      <td>Belgium</td>\n",
              "      <td>40106.632</td>\n",
              "      <td>6.9</td>\n",
              "    </tr>\n",
              "    <tr>\n",
              "      <th>21</th>\n",
              "      <td>Germany</td>\n",
              "      <td>40996.511</td>\n",
              "      <td>7.0</td>\n",
              "    </tr>\n",
              "    <tr>\n",
              "      <th>22</th>\n",
              "      <td>Finland</td>\n",
              "      <td>41973.988</td>\n",
              "      <td>7.6</td>\n",
              "    </tr>\n",
              "    <tr>\n",
              "      <th>23</th>\n",
              "      <td>Canada</td>\n",
              "      <td>43331.961</td>\n",
              "      <td>7.4</td>\n",
              "    </tr>\n",
              "    <tr>\n",
              "      <th>24</th>\n",
              "      <td>Netherlands</td>\n",
              "      <td>43603.115</td>\n",
              "      <td>7.4</td>\n",
              "    </tr>\n",
              "    <tr>\n",
              "      <th>25</th>\n",
              "      <td>Austria</td>\n",
              "      <td>43724.031</td>\n",
              "      <td>7.1</td>\n",
              "    </tr>\n",
              "    <tr>\n",
              "      <th>26</th>\n",
              "      <td>United Kingdom</td>\n",
              "      <td>43770.688</td>\n",
              "      <td>6.8</td>\n",
              "    </tr>\n",
              "    <tr>\n",
              "      <th>27</th>\n",
              "      <td>Sweden</td>\n",
              "      <td>49866.266</td>\n",
              "      <td>7.3</td>\n",
              "    </tr>\n",
              "    <tr>\n",
              "      <th>28</th>\n",
              "      <td>Iceland</td>\n",
              "      <td>50854.583</td>\n",
              "      <td>7.5</td>\n",
              "    </tr>\n",
              "  </tbody>\n",
              "</table>\n",
              "</div>\n",
              "      <button class=\"colab-df-convert\" onclick=\"convertToInteractive('df-3e862eb3-2960-4f36-a19e-b849a9f2bcbb')\"\n",
              "              title=\"Convert this dataframe to an interactive table.\"\n",
              "              style=\"display:none;\">\n",
              "        \n",
              "  <svg xmlns=\"http://www.w3.org/2000/svg\" height=\"24px\"viewBox=\"0 0 24 24\"\n",
              "       width=\"24px\">\n",
              "    <path d=\"M0 0h24v24H0V0z\" fill=\"none\"/>\n",
              "    <path d=\"M18.56 5.44l.94 2.06.94-2.06 2.06-.94-2.06-.94-.94-2.06-.94 2.06-2.06.94zm-11 1L8.5 8.5l.94-2.06 2.06-.94-2.06-.94L8.5 2.5l-.94 2.06-2.06.94zm10 10l.94 2.06.94-2.06 2.06-.94-2.06-.94-.94-2.06-.94 2.06-2.06.94z\"/><path d=\"M17.41 7.96l-1.37-1.37c-.4-.4-.92-.59-1.43-.59-.52 0-1.04.2-1.43.59L10.3 9.45l-7.72 7.72c-.78.78-.78 2.05 0 2.83L4 21.41c.39.39.9.59 1.41.59.51 0 1.02-.2 1.41-.59l7.78-7.78 2.81-2.81c.8-.78.8-2.07 0-2.86zM5.41 20L4 18.59l7.72-7.72 1.47 1.35L5.41 20z\"/>\n",
              "  </svg>\n",
              "      </button>\n",
              "      \n",
              "  <style>\n",
              "    .colab-df-container {\n",
              "      display:flex;\n",
              "      flex-wrap:wrap;\n",
              "      gap: 12px;\n",
              "    }\n",
              "\n",
              "    .colab-df-convert {\n",
              "      background-color: #E8F0FE;\n",
              "      border: none;\n",
              "      border-radius: 50%;\n",
              "      cursor: pointer;\n",
              "      display: none;\n",
              "      fill: #1967D2;\n",
              "      height: 32px;\n",
              "      padding: 0 0 0 0;\n",
              "      width: 32px;\n",
              "    }\n",
              "\n",
              "    .colab-df-convert:hover {\n",
              "      background-color: #E2EBFA;\n",
              "      box-shadow: 0px 1px 2px rgba(60, 64, 67, 0.3), 0px 1px 3px 1px rgba(60, 64, 67, 0.15);\n",
              "      fill: #174EA6;\n",
              "    }\n",
              "\n",
              "    [theme=dark] .colab-df-convert {\n",
              "      background-color: #3B4455;\n",
              "      fill: #D2E3FC;\n",
              "    }\n",
              "\n",
              "    [theme=dark] .colab-df-convert:hover {\n",
              "      background-color: #434B5C;\n",
              "      box-shadow: 0px 1px 3px 1px rgba(0, 0, 0, 0.15);\n",
              "      filter: drop-shadow(0px 1px 2px rgba(0, 0, 0, 0.3));\n",
              "      fill: #FFFFFF;\n",
              "    }\n",
              "  </style>\n",
              "\n",
              "      <script>\n",
              "        const buttonEl =\n",
              "          document.querySelector('#df-3e862eb3-2960-4f36-a19e-b849a9f2bcbb button.colab-df-convert');\n",
              "        buttonEl.style.display =\n",
              "          google.colab.kernel.accessAllowed ? 'block' : 'none';\n",
              "\n",
              "        async function convertToInteractive(key) {\n",
              "          const element = document.querySelector('#df-3e862eb3-2960-4f36-a19e-b849a9f2bcbb');\n",
              "          const dataTable =\n",
              "            await google.colab.kernel.invokeFunction('convertToInteractive',\n",
              "                                                     [key], {});\n",
              "          if (!dataTable) return;\n",
              "\n",
              "          const docLinkHtml = 'Like what you see? Visit the ' +\n",
              "            '<a target=\"_blank\" href=https://colab.research.google.com/notebooks/data_table.ipynb>data table notebook</a>'\n",
              "            + ' to learn more about interactive tables.';\n",
              "          element.innerHTML = '';\n",
              "          dataTable['output_type'] = 'display_data';\n",
              "          await google.colab.output.renderOutput(dataTable, element);\n",
              "          const docLink = document.createElement('div');\n",
              "          docLink.innerHTML = docLinkHtml;\n",
              "          element.appendChild(docLink);\n",
              "        }\n",
              "      </script>\n",
              "    </div>\n",
              "  </div>\n",
              "  "
            ]
          },
          "metadata": {},
          "execution_count": 78
        }
      ],
      "source": [
        "# Import pandas and matplotlib\n",
        "import pandas as pd\n",
        "from matplotlib import pyplot as plt\n",
        "import matplotlib as mpl\n",
        "import math\n",
        "from sklearn.linear_model import LinearRegression\n",
        "from sklearn.metrics import mean_squared_error\n",
        "\n",
        "#from sklearn.neighbors import KNeighborsRegressor\n",
        " \n",
        "from sklearn.metrics import mean_squared_error\n",
        "\n",
        "from sklearn import neighbors\n",
        "import sklearn.neighbors\n",
        "import statistics\n",
        "\n",
        "df = pd.read_csv('https://raw.githubusercontent.com/CUNY-CISC3440-Fall2022/datasets/main/life_satisfaction.csv')\n",
        "#df.loc[len(df.index)] = [\"Faketopia\", 60000, 0]\n",
        "df"
      ]
    },
    {
      "cell_type": "code",
      "execution_count": 79,
      "metadata": {
        "colab": {
          "base_uri": "https://localhost:8080/",
          "height": 279
        },
        "id": "Jp1sP0j2xNPc",
        "outputId": "ab230a4a-5420-4abb-d655-e49996993824"
      },
      "outputs": [
        {
          "output_type": "display_data",
          "data": {
            "text/plain": [
              "<Figure size 432x288 with 1 Axes>"
            ],
            "image/png": "[encoded data removed]"
          },
          "metadata": {
            "needs_background": "light"
          }
        }
      ],
      "source": [
        "\n",
        "\n",
        "plt.scatter(df['gdp_per_capita'], df['life_satisfaction'])\n",
        "\n",
        "plt.xlabel('GDP per capita')\n",
        "plt.ylabel('Life satisfaction')\n",
        "plt.show()\n"
      ]
    },
    {
      "cell_type": "code",
      "execution_count": 131,
      "metadata": {
        "colab": {
          "base_uri": "https://localhost:8080/"
        },
        "id": "LvzzjUdRNQel",
        "outputId": "98fae637-3c9b-4d39-c98b-9982eb30b805"
      },
      "outputs": [
        {
          "output_type": "stream",
          "name": "stdout",
          "text": [
            "[0.7582285828816993]\n"
          ]
        }
      ],
      "source": [
        "#model = sklearn.neighbors.KNeighborsRegressor(\n",
        "#n_neighbors=3)\n",
        "\n",
        "model = LinearRegression()\n",
        "\n",
        "Elist = []\n",
        "\n",
        "\n",
        "test = df.iloc[[0]]\n",
        "# Remove the 0th instance from the dataframe for the training set.\n",
        "train = df.drop(0)\n",
        "\n",
        "X = train[['gdp_per_capita']]\n",
        "y = train['life_satisfaction']\n",
        "\n",
        "# Train the model\n",
        "model.fit(X, y)\n",
        "\n",
        "# Try predicting the life satisfaction from the test set GDP\n",
        "y_pred = model.predict(test[['gdp_per_capita']])\n",
        "\n",
        "# life satisfaction value from the test set.\n",
        "error = mean_squared_error(test['life_satisfaction'], y_pred, squared=False)\n",
        "\n",
        "# Show the error value\n",
        "error\n",
        "Elist.append(error )\n",
        "print(Elist)"
      ]
    },
    {
      "cell_type": "code",
      "execution_count": 132,
      "metadata": {
        "id": "3YDcO2KZi8P4",
        "colab": {
          "base_uri": "https://localhost:8080/"
        },
        "outputId": "831b586c-3445-41f2-c237-3a699f6ea0f3"
      },
      "outputs": [
        {
          "output_type": "stream",
          "name": "stdout",
          "text": [
            "[0.7582285828816993, 0.6000000000000005]\n"
          ]
        }
      ],
      "source": [
        "#model = LinearRegression()\n",
        "model = sklearn.neighbors.KNeighborsRegressor(\n",
        "n_neighbors=3)\n",
        "\n",
        "\n",
        "test = df.iloc[[1]]\n",
        "\n",
        "train = df.drop(1)\n",
        "\n",
        "\n",
        "X = train[['gdp_per_capita']]\n",
        "y = train['life_satisfaction']\n",
        "\n",
        "\n",
        "model.fit(X, y)\n",
        "\n",
        "y_pred = model.predict(test[['gdp_per_capita']])\n",
        "\n",
        "\n",
        "error = mean_squared_error(test['life_satisfaction'], y_pred, squared=False)\n",
        "\n",
        "# Show the error value\n",
        "error\n",
        "Elist.append(error )\n",
        "print(Elist)"
      ]
    },
    {
      "cell_type": "code",
      "source": [
        "#model = LinearRegression()\n",
        "model = sklearn.neighbors.KNeighborsRegressor(\n",
        "n_neighbors=3)\n",
        "test = df.iloc[[2]]\n",
        "\n",
        "train = df.drop(2)\n",
        "\n",
        "\n",
        "X = train[['gdp_per_capita']]\n",
        "y = train['life_satisfaction']\n",
        "\n",
        "\n",
        "model.fit(X, y)\n",
        "\n",
        "y_pred = model.predict(test[['gdp_per_capita']])\n",
        "\n",
        "\n",
        "error = mean_squared_error(test['life_satisfaction'], y_pred, squared=False)\n",
        "\n",
        "# Show the error value\n",
        "error\n",
        "Elist.append(error )\n",
        "print(Elist)"
      ],
      "metadata": {
        "colab": {
          "base_uri": "https://localhost:8080/"
        },
        "id": "gpOWP3ciNY-7",
        "outputId": "bd49a708-d12a-42c3-b82f-62aba3613016"
      },
      "execution_count": 133,
      "outputs": [
        {
          "output_type": "stream",
          "name": "stdout",
          "text": [
            "[0.7582285828816993, 0.6000000000000005, 0.33333333333333304]\n"
          ]
        }
      ]
    },
    {
      "cell_type": "code",
      "source": [
        "#model = LinearRegression()\n",
        "model = sklearn.neighbors.KNeighborsRegressor(\n",
        "n_neighbors=3)\n",
        "\n",
        "test = df.iloc[[3]]\n",
        "\n",
        "train = df.drop(3)\n",
        "\n",
        "\n",
        "X = train[['gdp_per_capita']]\n",
        "y = train['life_satisfaction']\n",
        "\n",
        "\n",
        "model.fit(X, y)\n",
        "\n",
        "y_pred = model.predict(test[['gdp_per_capita']])\n",
        "\n",
        "\n",
        "error = mean_squared_error(test['life_satisfaction'], y_pred, squared=False)\n",
        "\n",
        "# Show the error value\n",
        "error\n",
        "Elist.append(error )\n",
        "print(Elist)"
      ],
      "metadata": {
        "colab": {
          "base_uri": "https://localhost:8080/"
        },
        "id": "-w0LSGKDN28C",
        "outputId": "4be52ab6-3f1e-4f38-cffd-13302fc87656"
      },
      "execution_count": 134,
      "outputs": [
        {
          "output_type": "stream",
          "name": "stdout",
          "text": [
            "[0.7582285828816993, 0.6000000000000005, 0.33333333333333304, 0.7333333333333343]\n"
          ]
        }
      ]
    },
    {
      "cell_type": "code",
      "source": [
        "#model = LinearRegression()\n",
        "\n",
        "test = df.iloc[[4]]\n",
        "\n",
        "train = df.drop(4)\n",
        "\n",
        "\n",
        "X = train[['gdp_per_capita']]\n",
        "y = train['life_satisfaction']\n",
        "\n",
        "\n",
        "model.fit(X, y)\n",
        "\n",
        "y_pred = model.predict(test[['gdp_per_capita']])\n",
        "\n",
        "\n",
        "error = mean_squared_error(test['life_satisfaction'], y_pred, squared=False)\n",
        "\n",
        "# Show the error value\n",
        "error\n",
        "Elist.append(error )\n",
        "print(Elist)"
      ],
      "metadata": {
        "colab": {
          "base_uri": "https://localhost:8080/"
        },
        "id": "jcsnYb8JN_8x",
        "outputId": "46d1f1be-c103-458c-fb77-91b7ee85c24f"
      },
      "execution_count": 135,
      "outputs": [
        {
          "output_type": "stream",
          "name": "stdout",
          "text": [
            "[0.7582285828816993, 0.6000000000000005, 0.33333333333333304, 0.7333333333333343, 0.33333333333333304]\n"
          ]
        }
      ]
    },
    {
      "cell_type": "code",
      "source": [
        "#model = LinearRegression()\n",
        "\n",
        "test = df.iloc[[5]]\n",
        "\n",
        "train = df.drop(5)\n",
        "\n",
        "\n",
        "X = train[['gdp_per_capita']]\n",
        "y = train['life_satisfaction']\n",
        "\n",
        "\n",
        "model.fit(X, y)\n",
        "\n",
        "y_pred = model.predict(test[['gdp_per_capita']])\n",
        "\n",
        "\n",
        "error = mean_squared_error(test['life_satisfaction'], y_pred, squared=False)\n",
        "\n",
        "# Show the error value\n",
        "error\n",
        "Elist.append(error )\n",
        "print(Elist)"
      ],
      "metadata": {
        "colab": {
          "base_uri": "https://localhost:8080/"
        },
        "id": "EFLpRj2dOCNZ",
        "outputId": "d6e16ba7-5dfc-469a-b781-466e927e179a"
      },
      "execution_count": 136,
      "outputs": [
        {
          "output_type": "stream",
          "name": "stdout",
          "text": [
            "[0.7582285828816993, 0.6000000000000005, 0.33333333333333304, 0.7333333333333343, 0.33333333333333304, 0.16666666666666607]\n"
          ]
        }
      ]
    },
    {
      "cell_type": "code",
      "source": [
        "#model = LinearRegression()\n",
        "\n",
        "test = df.iloc[[6]]\n",
        "\n",
        "train = df.drop(6)\n",
        "\n",
        "\n",
        "X = train[['gdp_per_capita']]\n",
        "y = train['life_satisfaction']\n",
        "\n",
        "\n",
        "model.fit(X, y)\n",
        "\n",
        "y_pred = model.predict(test[['gdp_per_capita']])\n",
        "\n",
        "\n",
        "error = mean_squared_error(test['life_satisfaction'], y_pred, squared=False)\n",
        "\n",
        "# Show the error value\n",
        "error\n",
        "Elist.append(error )\n",
        "print(Elist)"
      ],
      "metadata": {
        "colab": {
          "base_uri": "https://localhost:8080/"
        },
        "id": "cx0u-0VPOEEZ",
        "outputId": "ac4f4008-86a8-4938-c460-a3e814e896d8"
      },
      "execution_count": 137,
      "outputs": [
        {
          "output_type": "stream",
          "name": "stdout",
          "text": [
            "[0.7582285828816993, 0.6000000000000005, 0.33333333333333304, 0.7333333333333343, 0.33333333333333304, 0.16666666666666607, 0.16666666666666607]\n"
          ]
        }
      ]
    },
    {
      "cell_type": "code",
      "source": [
        "#model = LinearRegression()\n",
        "\n",
        "test = df.iloc[[7]]\n",
        "\n",
        "train = df.drop(7)\n",
        "\n",
        "\n",
        "X = train[['gdp_per_capita']]\n",
        "y = train['life_satisfaction']\n",
        "\n",
        "\n",
        "model.fit(X, y)\n",
        "\n",
        "y_pred = model.predict(test[['gdp_per_capita']])\n",
        "\n",
        "\n",
        "error = mean_squared_error(test['life_satisfaction'], y_pred, squared=False)\n",
        "\n",
        "# Show the error value\n",
        "error\n",
        "Elist.append(error )\n",
        "print(Elist)"
      ],
      "metadata": {
        "colab": {
          "base_uri": "https://localhost:8080/"
        },
        "id": "uHeO_xctOF9Q",
        "outputId": "ff150b58-b1f3-4170-9993-9ccd862ab061"
      },
      "execution_count": 138,
      "outputs": [
        {
          "output_type": "stream",
          "name": "stdout",
          "text": [
            "[0.7582285828816993, 0.6000000000000005, 0.33333333333333304, 0.7333333333333343, 0.33333333333333304, 0.16666666666666607, 0.16666666666666607, 0.09999999999999964]\n"
          ]
        }
      ]
    },
    {
      "cell_type": "code",
      "source": [
        "#model = LinearRegression()\n",
        "\n",
        "test = df.iloc[[8]]\n",
        "\n",
        "train = df.drop(8)\n",
        "\n",
        "\n",
        "X = train[['gdp_per_capita']]\n",
        "y = train['life_satisfaction']\n",
        "\n",
        "\n",
        "model.fit(X, y)\n",
        "\n",
        "y_pred = model.predict(test[['gdp_per_capita']])\n",
        "\n",
        "\n",
        "error = mean_squared_error(test['life_satisfaction'], y_pred, squared=False)\n",
        "\n",
        "# Show the error value\n",
        "error\n",
        "Elist.append(error )\n",
        "print(Elist)"
      ],
      "metadata": {
        "colab": {
          "base_uri": "https://localhost:8080/"
        },
        "id": "8Iui9wIwOIJH",
        "outputId": "6e951901-2bbb-4160-e349-6df1182fd690"
      },
      "execution_count": 139,
      "outputs": [
        {
          "output_type": "stream",
          "name": "stdout",
          "text": [
            "[0.7582285828816993, 0.6000000000000005, 0.33333333333333304, 0.7333333333333343, 0.33333333333333304, 0.16666666666666607, 0.16666666666666607, 0.09999999999999964, 0.9333333333333336]\n"
          ]
        }
      ]
    },
    {
      "cell_type": "code",
      "source": [
        "#model = LinearRegression()\n",
        "\n",
        "test = df.iloc[[9]]\n",
        "\n",
        "train = df.drop(9)\n",
        "\n",
        "\n",
        "X = train[['gdp_per_capita']]\n",
        "y = train['life_satisfaction']\n",
        "\n",
        "\n",
        "model.fit(X, y)\n",
        "\n",
        "y_pred = model.predict(test[['gdp_per_capita']])\n",
        "\n",
        "\n",
        "error = mean_squared_error(test['life_satisfaction'], y_pred, squared=False)\n",
        "\n",
        "# Show the error value\n",
        "error\n",
        "Elist.append(error )\n",
        "print(Elist)"
      ],
      "metadata": {
        "colab": {
          "base_uri": "https://localhost:8080/"
        },
        "id": "m-mmqgrvOKg4",
        "outputId": "7c65421f-aa0e-47b8-803f-2b2cc47ab75d"
      },
      "execution_count": 140,
      "outputs": [
        {
          "output_type": "stream",
          "name": "stdout",
          "text": [
            "[0.7582285828816993, 0.6000000000000005, 0.33333333333333304, 0.7333333333333343, 0.33333333333333304, 0.16666666666666607, 0.16666666666666607, 0.09999999999999964, 0.9333333333333336, 0.40000000000000036]\n"
          ]
        }
      ]
    },
    {
      "cell_type": "code",
      "source": [
        "#model = LinearRegression()\n",
        "\n",
        "test = df.iloc[[10]]\n",
        "\n",
        "train = df.drop(10)\n",
        "\n",
        "\n",
        "X = train[['gdp_per_capita']]\n",
        "y = train['life_satisfaction']\n",
        "\n",
        "\n",
        "model.fit(X, y)\n",
        "\n",
        "y_pred = model.predict(test[['gdp_per_capita']])\n",
        "\n",
        "\n",
        "error = mean_squared_error(test['life_satisfaction'], y_pred, squared=False)\n",
        "\n",
        "# Show the error value\n",
        "error\n",
        "Elist.append(error )\n",
        "print(Elist)"
      ],
      "metadata": {
        "colab": {
          "base_uri": "https://localhost:8080/"
        },
        "id": "nijb5KHqOM-y",
        "outputId": "cac9a6cb-a2f9-4344-98e3-598f74e3e374"
      },
      "execution_count": 141,
      "outputs": [
        {
          "output_type": "stream",
          "name": "stdout",
          "text": [
            "[0.7582285828816993, 0.6000000000000005, 0.33333333333333304, 0.7333333333333343, 0.33333333333333304, 0.16666666666666607, 0.16666666666666607, 0.09999999999999964, 0.9333333333333336, 0.40000000000000036, 0.5333333333333332]\n"
          ]
        }
      ]
    },
    {
      "cell_type": "code",
      "source": [
        "#model = LinearRegression()\n",
        "\n",
        "test = df.iloc[[11]]\n",
        "\n",
        "train = df.drop(11)\n",
        "\n",
        "\n",
        "X = train[['gdp_per_capita']]\n",
        "y = train['life_satisfaction']\n",
        "\n",
        "\n",
        "model.fit(X, y)\n",
        "\n",
        "y_pred = model.predict(test[['gdp_per_capita']])\n",
        "\n",
        "\n",
        "error = mean_squared_error(test['life_satisfaction'], y_pred, squared=False)\n",
        "\n",
        "# Show the error value\n",
        "error\n",
        "Elist.append(error )\n",
        "print(Elist)"
      ],
      "metadata": {
        "colab": {
          "base_uri": "https://localhost:8080/"
        },
        "id": "7ibpmzfKOOqL",
        "outputId": "6d32d5c0-81c2-47e9-8bcb-8e660787c5c8"
      },
      "execution_count": 142,
      "outputs": [
        {
          "output_type": "stream",
          "name": "stdout",
          "text": [
            "[0.7582285828816993, 0.6000000000000005, 0.33333333333333304, 0.7333333333333343, 0.33333333333333304, 0.16666666666666607, 0.16666666666666607, 0.09999999999999964, 0.9333333333333336, 0.40000000000000036, 0.5333333333333332, 0.2666666666666666]\n"
          ]
        }
      ]
    },
    {
      "cell_type": "code",
      "source": [
        "#model = LinearRegression()\n",
        "\n",
        "test = df.iloc[[12]]\n",
        "\n",
        "train = df.drop(12)\n",
        "\n",
        "\n",
        "X = train[['gdp_per_capita']]\n",
        "y = train['life_satisfaction']\n",
        "\n",
        "\n",
        "model.fit(X, y)\n",
        "\n",
        "y_pred = model.predict(test[['gdp_per_capita']])\n",
        "\n",
        "\n",
        "error = mean_squared_error(test['life_satisfaction'], y_pred, squared=False)\n",
        "\n",
        "# Show the error value\n",
        "error\n",
        "Elist.append(error )\n",
        "print(Elist)"
      ],
      "metadata": {
        "colab": {
          "base_uri": "https://localhost:8080/"
        },
        "id": "lbNcnTykOQFo",
        "outputId": "75a26dbc-b54d-4e1d-c7a8-f5b36373c5e8"
      },
      "execution_count": 143,
      "outputs": [
        {
          "output_type": "stream",
          "name": "stdout",
          "text": [
            "[0.7582285828816993, 0.6000000000000005, 0.33333333333333304, 0.7333333333333343, 0.33333333333333304, 0.16666666666666607, 0.16666666666666607, 0.09999999999999964, 0.9333333333333336, 0.40000000000000036, 0.5333333333333332, 0.2666666666666666, 0.40000000000000036]\n"
          ]
        }
      ]
    },
    {
      "cell_type": "code",
      "source": [
        "#model = LinearRegression()\n",
        "\n",
        "test = df.iloc[[13]]\n",
        "\n",
        "train = df.drop(13)\n",
        "\n",
        "\n",
        "X = train[['gdp_per_capita']]\n",
        "y = train['life_satisfaction']\n",
        "\n",
        "\n",
        "model.fit(X, y)\n",
        "\n",
        "y_pred = model.predict(test[['gdp_per_capita']])\n",
        "\n",
        "\n",
        "error = mean_squared_error(test['life_satisfaction'], y_pred, squared=False)\n",
        "\n",
        "# Show the error value\n",
        "error\n",
        "Elist.append(error )\n",
        "print(Elist)"
      ],
      "metadata": {
        "colab": {
          "base_uri": "https://localhost:8080/"
        },
        "id": "k6Xqrk57OSKZ",
        "outputId": "a093d1e3-f175-4926-f8e6-8711f5de1303"
      },
      "execution_count": 144,
      "outputs": [
        {
          "output_type": "stream",
          "name": "stdout",
          "text": [
            "[0.7582285828816993, 0.6000000000000005, 0.33333333333333304, 0.7333333333333343, 0.33333333333333304, 0.16666666666666607, 0.16666666666666607, 0.09999999999999964, 0.9333333333333336, 0.40000000000000036, 0.5333333333333332, 0.2666666666666666, 0.40000000000000036, 0.36666666666666625]\n"
          ]
        }
      ]
    },
    {
      "cell_type": "code",
      "source": [
        "#model = LinearRegression()\n",
        "\n",
        "test = df.iloc[[14]]\n",
        "\n",
        "train = df.drop(14)\n",
        "\n",
        "\n",
        "X = train[['gdp_per_capita']]\n",
        "y = train['life_satisfaction']\n",
        "\n",
        "\n",
        "model.fit(X, y)\n",
        "\n",
        "y_pred = model.predict(test[['gdp_per_capita']])\n",
        "\n",
        "\n",
        "error = mean_squared_error(test['life_satisfaction'], y_pred, squared=False)\n",
        "\n",
        "# Show the error value\n",
        "error\n",
        "Elist.append(error )\n",
        "print(Elist)"
      ],
      "metadata": {
        "colab": {
          "base_uri": "https://localhost:8080/"
        },
        "id": "NYR4eBeMOUfS",
        "outputId": "2ec5ecd8-bfdb-4b73-c479-f74fd1645ec4"
      },
      "execution_count": 145,
      "outputs": [
        {
          "output_type": "stream",
          "name": "stdout",
          "text": [
            "[0.7582285828816993, 0.6000000000000005, 0.33333333333333304, 0.7333333333333343, 0.33333333333333304, 0.16666666666666607, 0.16666666666666607, 0.09999999999999964, 0.9333333333333336, 0.40000000000000036, 0.5333333333333332, 0.2666666666666666, 0.40000000000000036, 0.36666666666666625, 0.16666666666666696]\n"
          ]
        }
      ]
    },
    {
      "cell_type": "code",
      "source": [
        "#model = LinearRegression()\n",
        "\n",
        "test = df.iloc[[15]]\n",
        "\n",
        "train = df.drop(15)\n",
        "\n",
        "\n",
        "X = train[['gdp_per_capita']]\n",
        "y = train['life_satisfaction']\n",
        "\n",
        "\n",
        "model.fit(X, y)\n",
        "\n",
        "y_pred = model.predict(test[['gdp_per_capita']])\n",
        "\n",
        "\n",
        "error = mean_squared_error(test['life_satisfaction'], y_pred, squared=False)\n",
        "\n",
        "# Show the error value\n",
        "error\n",
        "Elist.append(error )\n",
        "print(Elist)"
      ],
      "metadata": {
        "colab": {
          "base_uri": "https://localhost:8080/"
        },
        "id": "yYWhJTuPOWrt",
        "outputId": "8dfdc1ff-517f-4190-9f95-08335759c31d"
      },
      "execution_count": 146,
      "outputs": [
        {
          "output_type": "stream",
          "name": "stdout",
          "text": [
            "[0.7582285828816993, 0.6000000000000005, 0.33333333333333304, 0.7333333333333343, 0.33333333333333304, 0.16666666666666607, 0.16666666666666607, 0.09999999999999964, 0.9333333333333336, 0.40000000000000036, 0.5333333333333332, 0.2666666666666666, 0.40000000000000036, 0.36666666666666625, 0.16666666666666696, 0.0333333333333341]\n"
          ]
        }
      ]
    },
    {
      "cell_type": "code",
      "source": [
        "#model = LinearRegression()\n",
        "\n",
        "test = df.iloc[[16]]\n",
        "\n",
        "train = df.drop(16)\n",
        "\n",
        "\n",
        "X = train[['gdp_per_capita']]\n",
        "y = train['life_satisfaction']\n",
        "\n",
        "\n",
        "model.fit(X, y)\n",
        "\n",
        "y_pred = model.predict(test[['gdp_per_capita']])\n",
        "\n",
        "\n",
        "error = mean_squared_error(test['life_satisfaction'], y_pred, squared=False)\n",
        "\n",
        "# Show the error value\n",
        "error\n",
        "Elist.append(error )\n",
        "print(Elist)"
      ],
      "metadata": {
        "colab": {
          "base_uri": "https://localhost:8080/"
        },
        "id": "Wue5V_GKOZAq",
        "outputId": "41479888-dd4a-4b30-e1b7-b7f598c8d815"
      },
      "execution_count": 147,
      "outputs": [
        {
          "output_type": "stream",
          "name": "stdout",
          "text": [
            "[0.7582285828816993, 0.6000000000000005, 0.33333333333333304, 0.7333333333333343, 0.33333333333333304, 0.16666666666666607, 0.16666666666666607, 0.09999999999999964, 0.9333333333333336, 0.40000000000000036, 0.5333333333333332, 0.2666666666666666, 0.40000000000000036, 0.36666666666666625, 0.16666666666666696, 0.0333333333333341, 0.9333333333333327]\n"
          ]
        }
      ]
    },
    {
      "cell_type": "code",
      "source": [
        "#model = LinearRegression()\n",
        "\n",
        "test = df.iloc[[17]]\n",
        "\n",
        "train = df.drop(17)\n",
        "\n",
        "\n",
        "X = train[['gdp_per_capita']]\n",
        "y = train['life_satisfaction']\n",
        "\n",
        "\n",
        "model.fit(X, y)\n",
        "\n",
        "y_pred = model.predict(test[['gdp_per_capita']])\n",
        "\n",
        "\n",
        "error = mean_squared_error(test['life_satisfaction'], y_pred, squared=False)\n",
        "\n",
        "# Show the error value\n",
        "error\n",
        "Elist.append(error )\n",
        "print(Elist)"
      ],
      "metadata": {
        "colab": {
          "base_uri": "https://localhost:8080/"
        },
        "id": "Fc14aEIDOcQV",
        "outputId": "da9446e4-be6b-4fae-a426-29e85fde7666"
      },
      "execution_count": 148,
      "outputs": [
        {
          "output_type": "stream",
          "name": "stdout",
          "text": [
            "[0.7582285828816993, 0.6000000000000005, 0.33333333333333304, 0.7333333333333343, 0.33333333333333304, 0.16666666666666607, 0.16666666666666607, 0.09999999999999964, 0.9333333333333336, 0.40000000000000036, 0.5333333333333332, 0.2666666666666666, 0.40000000000000036, 0.36666666666666625, 0.16666666666666696, 0.0333333333333341, 0.9333333333333327, 0.6333333333333329]\n"
          ]
        }
      ]
    },
    {
      "cell_type": "code",
      "source": [
        "#model = LinearRegression()\n",
        "\n",
        "test = df.iloc[[18]]\n",
        "\n",
        "train = df.drop(18)\n",
        "\n",
        "\n",
        "X = train[['gdp_per_capita']]\n",
        "y = train['life_satisfaction']\n",
        "\n",
        "\n",
        "model.fit(X, y)\n",
        "\n",
        "y_pred = model.predict(test[['gdp_per_capita']])\n",
        "\n",
        "\n",
        "error = mean_squared_error(test['life_satisfaction'], y_pred, squared=False)\n",
        "\n",
        "# Show the error value\n",
        "error\n",
        "Elist.append(error )\n",
        "print(Elist)"
      ],
      "metadata": {
        "colab": {
          "base_uri": "https://localhost:8080/"
        },
        "id": "OEOO-9deOea5",
        "outputId": "b2bcfa0a-cf75-418e-845f-4db3924c29ef"
      },
      "execution_count": 149,
      "outputs": [
        {
          "output_type": "stream",
          "name": "stdout",
          "text": [
            "[0.7582285828816993, 0.6000000000000005, 0.33333333333333304, 0.7333333333333343, 0.33333333333333304, 0.16666666666666607, 0.16666666666666607, 0.09999999999999964, 0.9333333333333336, 0.40000000000000036, 0.5333333333333332, 0.2666666666666666, 0.40000000000000036, 0.36666666666666625, 0.16666666666666696, 0.0333333333333341, 0.9333333333333327, 0.6333333333333329, 0.4333333333333327]\n"
          ]
        }
      ]
    },
    {
      "cell_type": "code",
      "source": [
        "#model = LinearRegression()\n",
        "\n",
        "test = df.iloc[[19]]\n",
        "\n",
        "train = df.drop(19)\n",
        "\n",
        "\n",
        "X = train[['gdp_per_capita']]\n",
        "y = train['life_satisfaction']\n",
        "\n",
        "\n",
        "model.fit(X, y)\n",
        "\n",
        "y_pred = model.predict(test[['gdp_per_capita']])\n",
        "\n",
        "\n",
        "error = mean_squared_error(test['life_satisfaction'], y_pred, squared=False)\n",
        "\n",
        "# Show the error value\n",
        "error\n",
        "Elist.append(error )\n",
        "print(Elist)"
      ],
      "metadata": {
        "colab": {
          "base_uri": "https://localhost:8080/"
        },
        "id": "_CM5NA6xOfr0",
        "outputId": "f2034df3-d196-42e7-a526-5cb7f74634b6"
      },
      "execution_count": 150,
      "outputs": [
        {
          "output_type": "stream",
          "name": "stdout",
          "text": [
            "[0.7582285828816993, 0.6000000000000005, 0.33333333333333304, 0.7333333333333343, 0.33333333333333304, 0.16666666666666607, 0.16666666666666607, 0.09999999999999964, 0.9333333333333336, 0.40000000000000036, 0.5333333333333332, 0.2666666666666666, 0.40000000000000036, 0.36666666666666625, 0.16666666666666696, 0.0333333333333341, 0.9333333333333327, 0.6333333333333329, 0.4333333333333327, 0.6333333333333329]\n"
          ]
        }
      ]
    },
    {
      "cell_type": "code",
      "source": [
        "#model = LinearRegression()\n",
        "\n",
        "test = df.iloc[[20]]\n",
        "\n",
        "train = df.drop(20)\n",
        "\n",
        "\n",
        "X = train[['gdp_per_capita']]\n",
        "y = train['life_satisfaction']\n",
        "\n",
        "\n",
        "model.fit(X, y)\n",
        "\n",
        "y_pred = model.predict(test[['gdp_per_capita']])\n",
        "\n",
        "\n",
        "error = mean_squared_error(test['life_satisfaction'], y_pred, squared=False)\n",
        "\n",
        "# Show the error value\n",
        "error\n",
        "Elist.append(error )\n",
        "print(Elist)"
      ],
      "metadata": {
        "colab": {
          "base_uri": "https://localhost:8080/"
        },
        "id": "6M8DJLQ4OiX4",
        "outputId": "7e7b1c9d-cdab-42e7-ce6b-2150a2abf7e9"
      },
      "execution_count": 151,
      "outputs": [
        {
          "output_type": "stream",
          "name": "stdout",
          "text": [
            "[0.7582285828816993, 0.6000000000000005, 0.33333333333333304, 0.7333333333333343, 0.33333333333333304, 0.16666666666666607, 0.16666666666666607, 0.09999999999999964, 0.9333333333333336, 0.40000000000000036, 0.5333333333333332, 0.2666666666666666, 0.40000000000000036, 0.36666666666666625, 0.16666666666666696, 0.0333333333333341, 0.9333333333333327, 0.6333333333333329, 0.4333333333333327, 0.6333333333333329, 0.13333333333333375]\n"
          ]
        }
      ]
    },
    {
      "cell_type": "code",
      "source": [
        "#model = LinearRegression()\n",
        "\n",
        "test = df.iloc[[21]]\n",
        "\n",
        "train = df.drop(21)\n",
        "\n",
        "\n",
        "X = train[['gdp_per_capita']]\n",
        "y = train['life_satisfaction']\n",
        "\n",
        "\n",
        "model.fit(X, y)\n",
        "\n",
        "y_pred = model.predict(test[['gdp_per_capita']])\n",
        "\n",
        "\n",
        "error = mean_squared_error(test['life_satisfaction'], y_pred, squared=False)\n",
        "\n",
        "# Show the error value\n",
        "error\n",
        "Elist.append(error )\n",
        "print(Elist)"
      ],
      "metadata": {
        "colab": {
          "base_uri": "https://localhost:8080/"
        },
        "id": "yvzxYtp7OlHa",
        "outputId": "003848a6-e413-44c8-f4d7-e7b0a19dc1e2"
      },
      "execution_count": 152,
      "outputs": [
        {
          "output_type": "stream",
          "name": "stdout",
          "text": [
            "[0.7582285828816993, 0.6000000000000005, 0.33333333333333304, 0.7333333333333343, 0.33333333333333304, 0.16666666666666607, 0.16666666666666607, 0.09999999999999964, 0.9333333333333336, 0.40000000000000036, 0.5333333333333332, 0.2666666666666666, 0.40000000000000036, 0.36666666666666625, 0.16666666666666696, 0.0333333333333341, 0.9333333333333327, 0.6333333333333329, 0.4333333333333327, 0.6333333333333329, 0.13333333333333375, 0.2999999999999998]\n"
          ]
        }
      ]
    },
    {
      "cell_type": "code",
      "source": [
        "#model = LinearRegression()\n",
        "\n",
        "#test = df.iloc[[22]]\n",
        "\n",
        "train = df.drop(22)\n",
        "\n",
        "\n",
        "X = train[['gdp_per_capita']]\n",
        "y = train['life_satisfaction']\n",
        "\n",
        "\n",
        "model.fit(X, y)\n",
        "\n",
        "y_pred = model.predict(test[['gdp_per_capita']])\n",
        "\n",
        "\n",
        "error = mean_squared_error(test['life_satisfaction'], y_pred, squared=False)\n",
        "\n",
        "# Show the error value\n",
        "error\n",
        "Elist.append(error )\n",
        "print(Elist)"
      ],
      "metadata": {
        "colab": {
          "base_uri": "https://localhost:8080/"
        },
        "id": "whdyBUijOm2K",
        "outputId": "ff8717cb-7b58-49db-8567-465cfd499af5"
      },
      "execution_count": 153,
      "outputs": [
        {
          "output_type": "stream",
          "name": "stdout",
          "text": [
            "[0.7582285828816993, 0.6000000000000005, 0.33333333333333304, 0.7333333333333343, 0.33333333333333304, 0.16666666666666607, 0.16666666666666607, 0.09999999999999964, 0.9333333333333336, 0.40000000000000036, 0.5333333333333332, 0.2666666666666666, 0.40000000000000036, 0.36666666666666625, 0.16666666666666696, 0.0333333333333341, 0.9333333333333327, 0.6333333333333329, 0.4333333333333327, 0.6333333333333329, 0.13333333333333375, 0.2999999999999998, 0.10000000000000053]\n"
          ]
        }
      ]
    },
    {
      "cell_type": "code",
      "source": [
        "#model = LinearRegression()\n",
        "\n",
        "#test = df.iloc[[23]]\n",
        "\n",
        "train = df.drop(23)\n",
        "\n",
        "\n",
        "X = train[['gdp_per_capita']]\n",
        "y = train['life_satisfaction']\n",
        "\n",
        "\n",
        "model.fit(X, y)\n",
        "\n",
        "y_pred = model.predict(test[['gdp_per_capita']])\n",
        "\n",
        "\n",
        "error = mean_squared_error(test['life_satisfaction'], y_pred, squared=False)\n",
        "\n",
        "# Show the error value\n",
        "error\n",
        "Elist.append(error )\n",
        "print(Elist)"
      ],
      "metadata": {
        "colab": {
          "base_uri": "https://localhost:8080/"
        },
        "id": "sfC9_84lOo3D",
        "outputId": "64b62633-2e3e-44e1-894c-b5f399c5a3fb"
      },
      "execution_count": 161,
      "outputs": [
        {
          "output_type": "stream",
          "name": "stdout",
          "text": [
            "[0.7582285828816993, 0.6000000000000005, 0.33333333333333304, 0.7333333333333343, 0.33333333333333304, 0.16666666666666607, 0.16666666666666607, 0.09999999999999964, 0.9333333333333336, 0.40000000000000036, 0.5333333333333332, 0.2666666666666666, 0.40000000000000036, 0.36666666666666625, 0.16666666666666696, 0.0333333333333341, 0.9333333333333327, 0.6333333333333329, 0.4333333333333327, 0.6333333333333329, 0.13333333333333375, 0.2999999999999998, 0.10000000000000053, 0.16666666666666696, 0.3000000000000016, 0.10000000000000053, 0.20000000000000018, 0.16666666666666696, 0.43333333333333357, 0.2999999999999998]\n"
          ]
        }
      ]
    },
    {
      "cell_type": "code",
      "source": [
        "#model = LinearRegression()\n",
        "\n",
        "test = df.iloc[[24]]\n",
        "\n",
        "train = df.drop(24)\n",
        "\n",
        "\n",
        "X = train[['gdp_per_capita']]\n",
        "y = train['life_satisfaction']\n",
        "\n",
        "\n",
        "model.fit(X, y)\n",
        "\n",
        "y_pred = model.predict(test[['gdp_per_capita']])\n",
        "\n",
        "\n",
        "error = mean_squared_error(test['life_satisfaction'], y_pred, squared=False)\n",
        "\n",
        "# Show the error value\n",
        "error\n",
        "Elist.append(error)"
      ],
      "metadata": {
        "id": "xL8TF-aGOqvS"
      },
      "execution_count": 162,
      "outputs": []
    },
    {
      "cell_type": "code",
      "source": [
        "#model = LinearRegression()\n",
        "\n",
        "test = df.iloc[[25]]\n",
        "\n",
        "train = df.drop(25)\n",
        "\n",
        "\n",
        "X = train[['gdp_per_capita']]\n",
        "y = train['life_satisfaction']\n",
        "\n",
        "\n",
        "model.fit(X, y)\n",
        "\n",
        "y_pred = model.predict(test[['gdp_per_capita']])\n",
        "\n",
        "\n",
        "error = mean_squared_error(test['life_satisfaction'], y_pred, squared=False)\n",
        "\n",
        "# Show the error value\n",
        "error\n",
        "Elist.append(error )\n",
        "print(Elist)"
      ],
      "metadata": {
        "colab": {
          "base_uri": "https://localhost:8080/"
        },
        "id": "4f5us0FYOvrb",
        "outputId": "acd55cb5-ea3a-47fb-c93c-846e6cbb73d3"
      },
      "execution_count": 156,
      "outputs": [
        {
          "output_type": "stream",
          "name": "stdout",
          "text": [
            "[0.7582285828816993, 0.6000000000000005, 0.33333333333333304, 0.7333333333333343, 0.33333333333333304, 0.16666666666666607, 0.16666666666666607, 0.09999999999999964, 0.9333333333333336, 0.40000000000000036, 0.5333333333333332, 0.2666666666666666, 0.40000000000000036, 0.36666666666666625, 0.16666666666666696, 0.0333333333333341, 0.9333333333333327, 0.6333333333333329, 0.4333333333333327, 0.6333333333333329, 0.13333333333333375, 0.2999999999999998, 0.10000000000000053, 0.16666666666666696, 0.3000000000000016, 0.10000000000000053]\n"
          ]
        }
      ]
    },
    {
      "cell_type": "code",
      "source": [
        "#model = LinearRegression()\n",
        "\n",
        "#test = df.iloc[[26]]\n",
        "\n",
        "train = df.drop(26)\n",
        "\n",
        "\n",
        "X = train[['gdp_per_capita']]\n",
        "y = train['life_satisfaction']\n",
        "\n",
        "\n",
        "model.fit(X, y)\n",
        "\n",
        "y_pred = model.predict(test[['gdp_per_capita']])\n",
        "\n",
        "\n",
        "error = mean_squared_error(test['life_satisfaction'], y_pred, squared=False)\n",
        "\n",
        "# Show the error value\n",
        "error\n",
        "Elist.append(error )\n",
        "print(Elist)"
      ],
      "metadata": {
        "colab": {
          "base_uri": "https://localhost:8080/"
        },
        "id": "E9oO2WLHOyCh",
        "outputId": "e29298e3-346b-489e-957b-e2fb54620b73"
      },
      "execution_count": 157,
      "outputs": [
        {
          "output_type": "stream",
          "name": "stdout",
          "text": [
            "[0.7582285828816993, 0.6000000000000005, 0.33333333333333304, 0.7333333333333343, 0.33333333333333304, 0.16666666666666607, 0.16666666666666607, 0.09999999999999964, 0.9333333333333336, 0.40000000000000036, 0.5333333333333332, 0.2666666666666666, 0.40000000000000036, 0.36666666666666625, 0.16666666666666696, 0.0333333333333341, 0.9333333333333327, 0.6333333333333329, 0.4333333333333327, 0.6333333333333329, 0.13333333333333375, 0.2999999999999998, 0.10000000000000053, 0.16666666666666696, 0.3000000000000016, 0.10000000000000053, 0.20000000000000018]\n"
          ]
        }
      ]
    },
    {
      "cell_type": "code",
      "source": [
        "#model = LinearRegression()\n",
        "\n",
        "test = df.iloc[[27]]\n",
        "\n",
        "train = df.drop(27)\n",
        "\n",
        "\n",
        "X = train[['gdp_per_capita']]\n",
        "y = train['life_satisfaction']\n",
        "\n",
        "\n",
        "model.fit(X, y)\n",
        "\n",
        "y_pred = model.predict(test[['gdp_per_capita']])\n",
        "\n",
        "\n",
        "error = mean_squared_error(test['life_satisfaction'], y_pred, squared=False)\n",
        "\n",
        "# Show the error value\n",
        "error\n",
        "Elist.append(error )\n",
        "print(Elist)"
      ],
      "metadata": {
        "colab": {
          "base_uri": "https://localhost:8080/"
        },
        "id": "M_LPF2MMO0lB",
        "outputId": "8d2f2113-4f57-4229-be13-6e0075f3cd50"
      },
      "execution_count": 158,
      "outputs": [
        {
          "output_type": "stream",
          "name": "stdout",
          "text": [
            "[0.7582285828816993, 0.6000000000000005, 0.33333333333333304, 0.7333333333333343, 0.33333333333333304, 0.16666666666666607, 0.16666666666666607, 0.09999999999999964, 0.9333333333333336, 0.40000000000000036, 0.5333333333333332, 0.2666666666666666, 0.40000000000000036, 0.36666666666666625, 0.16666666666666696, 0.0333333333333341, 0.9333333333333327, 0.6333333333333329, 0.4333333333333327, 0.6333333333333329, 0.13333333333333375, 0.2999999999999998, 0.10000000000000053, 0.16666666666666696, 0.3000000000000016, 0.10000000000000053, 0.20000000000000018, 0.16666666666666696]\n"
          ]
        }
      ]
    },
    {
      "cell_type": "code",
      "source": [
        "#model = LinearRegression()\n",
        "\n",
        "test = df.iloc[[28]]\n",
        "\n",
        "train = df.drop(28)\n",
        "\n",
        "\n",
        "X = train[['gdp_per_capita']]\n",
        "y = train['life_satisfaction']\n",
        "\n",
        "\n",
        "model.fit(X, y)\n",
        "\n",
        "y_pred = model.predict(test[['gdp_per_capita']])\n",
        "\n",
        "\n",
        "error = mean_squared_error(test['life_satisfaction'], y_pred, squared=False)\n",
        "\n",
        "# Show the error value\n",
        "error\n",
        "Elist.append(error)\n",
        "print(Elist)\n"
      ],
      "metadata": {
        "colab": {
          "base_uri": "https://localhost:8080/"
        },
        "id": "1ksWmhmnO2vo",
        "outputId": "a761e9b5-403c-460f-c397-099e15d7ddfd"
      },
      "execution_count": 159,
      "outputs": [
        {
          "output_type": "stream",
          "name": "stdout",
          "text": [
            "[0.7582285828816993, 0.6000000000000005, 0.33333333333333304, 0.7333333333333343, 0.33333333333333304, 0.16666666666666607, 0.16666666666666607, 0.09999999999999964, 0.9333333333333336, 0.40000000000000036, 0.5333333333333332, 0.2666666666666666, 0.40000000000000036, 0.36666666666666625, 0.16666666666666696, 0.0333333333333341, 0.9333333333333327, 0.6333333333333329, 0.4333333333333327, 0.6333333333333329, 0.13333333333333375, 0.2999999999999998, 0.10000000000000053, 0.16666666666666696, 0.3000000000000016, 0.10000000000000053, 0.20000000000000018, 0.16666666666666696, 0.43333333333333357]\n"
          ]
        }
      ]
    },
    {
      "cell_type": "code",
      "source": [
        "\n",
        "#print(Elist)\n",
        "statistics.mean(Elist)\n"
      ],
      "metadata": {
        "colab": {
          "base_uri": "https://localhost:8080/"
        },
        "id": "mTPehwuHP46T",
        "outputId": "3a81b7a2-a980-4c05-c909-1c23627db5fb"
      },
      "execution_count": 160,
      "outputs": [
        {
          "output_type": "execute_result",
          "data": {
            "text/plain": [
              "0.3732722499844265"
            ]
          },
          "metadata": {},
          "execution_count": 160
        }
      ]
    }
  ],
  "metadata": {
    "colab": {
      "collapsed_sections": [],
      "provenance": []
    },
    "kernelspec": {
      "display_name": "Python 3",
      "name": "python3"
    },
    "language_info": {
      "name": "python"
    }
  },
  "nbformat": 4,
  "nbformat_minor": 0
}