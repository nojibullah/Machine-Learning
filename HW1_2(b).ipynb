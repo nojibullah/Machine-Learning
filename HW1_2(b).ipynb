{
  "cells": [
    {
      "cell_type": "code",
      "execution_count": 43,
      "metadata": {
        "colab": {
          "base_uri": "https://localhost:8080/",
          "height": 990
        },
        "id": "bvEjhBZaahC4",
        "outputId": "e6e2c023-29b4-4379-f15a-8782fa37cd2e"
      },
      "outputs": [
        {
          "output_type": "execute_result",
          "data": {
            "text/plain": [
              "            country  gdp_per_capita  life_satisfaction\n",
              "0            Brazil        8669.998                6.4\n",
              "1            Mexico        9009.280                6.5\n",
              "2            Russia        9054.914                5.8\n",
              "3            Turkey        9437.372                5.5\n",
              "4            Poland       12495.334                6.1\n",
              "5            Latvia       13618.569                5.9\n",
              "6         Lithuania       14210.280                5.9\n",
              "7   Slovak Republic       15991.736                6.2\n",
              "8    Czech Republic       17256.918                6.7\n",
              "9           Estonia       17288.083                5.7\n",
              "10           Greece       18064.288                5.4\n",
              "11         Portugal       19121.592                5.4\n",
              "12         Slovenia       20732.482                5.9\n",
              "13            Spain       25864.721                6.3\n",
              "14            Korea       27195.197                5.9\n",
              "15            Italy       29866.581                6.0\n",
              "16            Japan       32485.545                5.9\n",
              "17           Israel       35343.336                7.2\n",
              "18      New Zealand       37044.891                7.3\n",
              "19           France       37675.006                6.5\n",
              "20          Belgium       40106.632                6.9\n",
              "21          Germany       40996.511                7.0\n",
              "22          Finland       41973.988                7.6\n",
              "23           Canada       43331.961                7.4\n",
              "24      Netherlands       43603.115                7.4\n",
              "25          Austria       43724.031                7.1\n",
              "26   United Kingdom       43770.688                6.8\n",
              "27           Sweden       49866.266                7.3\n",
              "28          Iceland       50854.583                7.5\n",
              "29        Faketopia       60000.000                0.0"
            ],
            "text/html": [
              "\n",
              "  <div id=\"df-77d462ec-0cdc-4623-a02f-449a40f33a89\">\n",
              "    <div class=\"colab-df-container\">\n",
              "      <div>\n",
              "<style scoped>\n",
              "    .dataframe tbody tr th:only-of-type {\n",
              "        vertical-align: middle;\n",
              "    }\n",
              "\n",
              "    .dataframe tbody tr th {\n",
              "        vertical-align: top;\n",
              "    }\n",
              "\n",
              "    .dataframe thead th {\n",
              "        text-align: right;\n",
              "    }\n",
              "</style>\n",
              "<table border=\"1\" class=\"dataframe\">\n",
              "  <thead>\n",
              "    <tr style=\"text-align: right;\">\n",
              "      <th></th>\n",
              "      <th>country</th>\n",
              "      <th>gdp_per_capita</th>\n",
              "      <th>life_satisfaction</th>\n",
              "    </tr>\n",
              "  </thead>\n",
              "  <tbody>\n",
              "    <tr>\n",
              "      <th>0</th>\n",
              "      <td>Brazil</td>\n",
              "      <td>8669.998</td>\n",
              "      <td>6.4</td>\n",
              "    </tr>\n",
              "    <tr>\n",
              "      <th>1</th>\n",
              "      <td>Mexico</td>\n",
              "      <td>9009.280</td>\n",
              "      <td>6.5</td>\n",
              "    </tr>\n",
              "    <tr>\n",
              "      <th>2</th>\n",
              "      <td>Russia</td>\n",
              "      <td>9054.914</td>\n",
              "      <td>5.8</td>\n",
              "    </tr>\n",
              "    <tr>\n",
              "      <th>3</th>\n",
              "      <td>Turkey</td>\n",
              "      <td>9437.372</td>\n",
              "      <td>5.5</td>\n",
              "    </tr>\n",
              "    <tr>\n",
              "      <th>4</th>\n",
              "      <td>Poland</td>\n",
              "      <td>12495.334</td>\n",
              "      <td>6.1</td>\n",
              "    </tr>\n",
              "    <tr>\n",
              "      <th>5</th>\n",
              "      <td>Latvia</td>\n",
              "      <td>13618.569</td>\n",
              "      <td>5.9</td>\n",
              "    </tr>\n",
              "    <tr>\n",
              "      <th>6</th>\n",
              "      <td>Lithuania</td>\n",
              "      <td>14210.280</td>\n",
              "      <td>5.9</td>\n",
              "    </tr>\n",
              "    <tr>\n",
              "      <th>7</th>\n",
              "      <td>Slovak Republic</td>\n",
              "      <td>15991.736</td>\n",
              "      <td>6.2</td>\n",
              "    </tr>\n",
              "    <tr>\n",
              "      <th>8</th>\n",
              "      <td>Czech Republic</td>\n",
              "      <td>17256.918</td>\n",
              "      <td>6.7</td>\n",
              "    </tr>\n",
              "    <tr>\n",
              "      <th>9</th>\n",
              "      <td>Estonia</td>\n",
              "      <td>17288.083</td>\n",
              "      <td>5.7</td>\n",
              "    </tr>\n",
              "    <tr>\n",
              "      <th>10</th>\n",
              "      <td>Greece</td>\n",
              "      <td>18064.288</td>\n",
              "      <td>5.4</td>\n",
              "    </tr>\n",
              "    <tr>\n",
              "      <th>11</th>\n",
              "      <td>Portugal</td>\n",
              "      <td>19121.592</td>\n",
              "      <td>5.4</td>\n",
              "    </tr>\n",
              "    <tr>\n",
              "      <th>12</th>\n",
              "      <td>Slovenia</td>\n",
              "      <td>20732.482</td>\n",
              "      <td>5.9</td>\n",
              "    </tr>\n",
              "    <tr>\n",
              "      <th>13</th>\n",
              "      <td>Spain</td>\n",
              "      <td>25864.721</td>\n",
              "      <td>6.3</td>\n",
              "    </tr>\n",
              "    <tr>\n",
              "      <th>14</th>\n",
              "      <td>Korea</td>\n",
              "      <td>27195.197</td>\n",
              "      <td>5.9</td>\n",
              "    </tr>\n",
              "    <tr>\n",
              "      <th>15</th>\n",
              "      <td>Italy</td>\n",
              "      <td>29866.581</td>\n",
              "      <td>6.0</td>\n",
              "    </tr>\n",
              "    <tr>\n",
              "      <th>16</th>\n",
              "      <td>Japan</td>\n",
              "      <td>32485.545</td>\n",
              "      <td>5.9</td>\n",
              "    </tr>\n",
              "    <tr>\n",
              "      <th>17</th>\n",
              "      <td>Israel</td>\n",
              "      <td>35343.336</td>\n",
              "      <td>7.2</td>\n",
              "    </tr>\n",
              "    <tr>\n",
              "      <th>18</th>\n",
              "      <td>New Zealand</td>\n",
              "      <td>37044.891</td>\n",
              "      <td>7.3</td>\n",
              "    </tr>\n",
              "    <tr>\n",
              "      <th>19</th>\n",
              "      <td>France</td>\n",
              "      <td>37675.006</td>\n",
              "      <td>6.5</td>\n",
              "    </tr>\n",
              "    <tr>\n",
              "      <th>20</th>\n",
              "      <td>Belgium</td>\n",
              "      <td>40106.632</td>\n",
              "      <td>6.9</td>\n",
              "    </tr>\n",
              "    <tr>\n",
              "      <th>21</th>\n",
              "      <td>Germany</td>\n",
              "      <td>40996.511</td>\n",
              "      <td>7.0</td>\n",
              "    </tr>\n",
              "    <tr>\n",
              "      <th>22</th>\n",
              "      <td>Finland</td>\n",
              "      <td>41973.988</td>\n",
              "      <td>7.6</td>\n",
              "    </tr>\n",
              "    <tr>\n",
              "      <th>23</th>\n",
              "      <td>Canada</td>\n",
              "      <td>43331.961</td>\n",
              "      <td>7.4</td>\n",
              "    </tr>\n",
              "    <tr>\n",
              "      <th>24</th>\n",
              "      <td>Netherlands</td>\n",
              "      <td>43603.115</td>\n",
              "      <td>7.4</td>\n",
              "    </tr>\n",
              "    <tr>\n",
              "      <th>25</th>\n",
              "      <td>Austria</td>\n",
              "      <td>43724.031</td>\n",
              "      <td>7.1</td>\n",
              "    </tr>\n",
              "    <tr>\n",
              "      <th>26</th>\n",
              "      <td>United Kingdom</td>\n",
              "      <td>43770.688</td>\n",
              "      <td>6.8</td>\n",
              "    </tr>\n",
              "    <tr>\n",
              "      <th>27</th>\n",
              "      <td>Sweden</td>\n",
              "      <td>49866.266</td>\n",
              "      <td>7.3</td>\n",
              "    </tr>\n",
              "    <tr>\n",
              "      <th>28</th>\n",
              "      <td>Iceland</td>\n",
              "      <td>50854.583</td>\n",
              "      <td>7.5</td>\n",
              "    </tr>\n",
              "    <tr>\n",
              "      <th>29</th>\n",
              "      <td>Faketopia</td>\n",
              "      <td>60000.000</td>\n",
              "      <td>0.0</td>\n",
              "    </tr>\n",
              "  </tbody>\n",
              "</table>\n",
              "</div>\n",
              "      <button class=\"colab-df-convert\" onclick=\"convertToInteractive('df-77d462ec-0cdc-4623-a02f-449a40f33a89')\"\n",
              "              title=\"Convert this dataframe to an interactive table.\"\n",
              "              style=\"display:none;\">\n",
              "        \n",
              "  <svg xmlns=\"http://www.w3.org/2000/svg\" height=\"24px\"viewBox=\"0 0 24 24\"\n",
              "       width=\"24px\">\n",
              "    <path d=\"M0 0h24v24H0V0z\" fill=\"none\"/>\n",
              "    <path d=\"M18.56 5.44l.94 2.06.94-2.06 2.06-.94-2.06-.94-.94-2.06-.94 2.06-2.06.94zm-11 1L8.5 8.5l.94-2.06 2.06-.94-2.06-.94L8.5 2.5l-.94 2.06-2.06.94zm10 10l.94 2.06.94-2.06 2.06-.94-2.06-.94-.94-2.06-.94 2.06-2.06.94z\"/><path d=\"M17.41 7.96l-1.37-1.37c-.4-.4-.92-.59-1.43-.59-.52 0-1.04.2-1.43.59L10.3 9.45l-7.72 7.72c-.78.78-.78 2.05 0 2.83L4 21.41c.39.39.9.59 1.41.59.51 0 1.02-.2 1.41-.59l7.78-7.78 2.81-2.81c.8-.78.8-2.07 0-2.86zM5.41 20L4 18.59l7.72-7.72 1.47 1.35L5.41 20z\"/>\n",
              "  </svg>\n",
              "      </button>\n",
              "      \n",
              "  <style>\n",
              "    .colab-df-container {\n",
              "      display:flex;\n",
              "      flex-wrap:wrap;\n",
              "      gap: 12px;\n",
              "    }\n",
              "\n",
              "    .colab-df-convert {\n",
              "      background-color: #E8F0FE;\n",
              "      border: none;\n",
              "      border-radius: 50%;\n",
              "      cursor: pointer;\n",
              "      display: none;\n",
              "      fill: #1967D2;\n",
              "      height: 32px;\n",
              "      padding: 0 0 0 0;\n",
              "      width: 32px;\n",
              "    }\n",
              "\n",
              "    .colab-df-convert:hover {\n",
              "      background-color: #E2EBFA;\n",
              "      box-shadow: 0px 1px 2px rgba(60, 64, 67, 0.3), 0px 1px 3px 1px rgba(60, 64, 67, 0.15);\n",
              "      fill: #174EA6;\n",
              "    }\n",
              "\n",
              "    [theme=dark] .colab-df-convert {\n",
              "      background-color: #3B4455;\n",
              "      fill: #D2E3FC;\n",
              "    }\n",
              "\n",
              "    [theme=dark] .colab-df-convert:hover {\n",
              "      background-color: #434B5C;\n",
              "      box-shadow: 0px 1px 3px 1px rgba(0, 0, 0, 0.15);\n",
              "      filter: drop-shadow(0px 1px 2px rgba(0, 0, 0, 0.3));\n",
              "      fill: #FFFFFF;\n",
              "    }\n",
              "  </style>\n",
              "\n",
              "      <script>\n",
              "        const buttonEl =\n",
              "          document.querySelector('#df-77d462ec-0cdc-4623-a02f-449a40f33a89 button.colab-df-convert');\n",
              "        buttonEl.style.display =\n",
              "          google.colab.kernel.accessAllowed ? 'block' : 'none';\n",
              "\n",
              "        async function convertToInteractive(key) {\n",
              "          const element = document.querySelector('#df-77d462ec-0cdc-4623-a02f-449a40f33a89');\n",
              "          const dataTable =\n",
              "            await google.colab.kernel.invokeFunction('convertToInteractive',\n",
              "                                                     [key], {});\n",
              "          if (!dataTable) return;\n",
              "\n",
              "          const docLinkHtml = 'Like what you see? Visit the ' +\n",
              "            '<a target=\"_blank\" href=https://colab.research.google.com/notebooks/data_table.ipynb>data table notebook</a>'\n",
              "            + ' to learn more about interactive tables.';\n",
              "          element.innerHTML = '';\n",
              "          dataTable['output_type'] = 'display_data';\n",
              "          await google.colab.output.renderOutput(dataTable, element);\n",
              "          const docLink = document.createElement('div');\n",
              "          docLink.innerHTML = docLinkHtml;\n",
              "          element.appendChild(docLink);\n",
              "        }\n",
              "      </script>\n",
              "    </div>\n",
              "  </div>\n",
              "  "
            ]
          },
          "metadata": {},
          "execution_count": 43
        }
      ],
      "source": [
        "# Import pandas and matplotlib\n",
        "import pandas as pd\n",
        "from matplotlib import pyplot as plt\n",
        "import matplotlib as mpl\n",
        "import math\n",
        "from sklearn.linear_model import LinearRegression\n",
        "from sklearn.metrics import mean_squared_error\n",
        "\n",
        "from sklearn.neighbors import KNeighborsRegressor\n",
        " \n",
        "from sklearn.metrics import mean_squared_error\n",
        "\n",
        "from sklearn import neighbors\n",
        "import sklearn.neighbors\n",
        "import statistics\n",
        "\n",
        "df = pd.read_csv('https://raw.githubusercontent.com/CUNY-CISC3440-Fall2022/datasets/main/life_satisfaction.csv')\n",
        "df.loc[len(df.index)] = [\"Faketopia\", 60000, 0]\n",
        "df"
      ]
    },
    {
      "cell_type": "code",
      "execution_count": 44,
      "metadata": {
        "colab": {
          "base_uri": "https://localhost:8080/",
          "height": 279
        },
        "id": "Jp1sP0j2xNPc",
        "outputId": "5d3abfa8-4ac6-47a2-90a2-c75bcbe21475"
      },
      "outputs": [
        {
          "output_type": "display_data",
          "data": {
            "text/plain": [
              "<Figure size 432x288 with 1 Axes>"
            ],
            "image/png": "[encoded data removed]"
          },
          "metadata": {
            "needs_background": "light"
          }
        }
      ],
      "source": [
        "\n",
        "\n",
        "plt.scatter(df['gdp_per_capita'], df['life_satisfaction'])\n",
        "\n",
        "plt.xlabel('GDP per capita')\n",
        "plt.ylabel('Life satisfaction')\n",
        "plt.show()\n"
      ]
    },
    {
      "cell_type": "code",
      "execution_count": 46,
      "metadata": {
        "colab": {
          "base_uri": "https://localhost:8080/"
        },
        "id": "LvzzjUdRNQel",
        "outputId": "a07d3675-24d3-477f-ab69-e8b069ab7bd2"
      },
      "outputs": [
        {
          "output_type": "stream",
          "name": "stdout",
          "text": [
            "[0.4666666666666668]\n"
          ]
        }
      ],
      "source": [
        "model = sklearn.neighbors.KNeighborsRegressor(\n",
        "n_neighbors=3)\n",
        "\n",
        "#model = LinearRegression()\n",
        "\n",
        "Elist = []\n",
        "\n",
        "\n",
        "test = df.iloc[[0]]\n",
        "# Remove the 0th instance from the dataframe for the training set.\n",
        "train = df.drop(0)\n",
        "\n",
        "X = train[['gdp_per_capita']]\n",
        "y = train['life_satisfaction']\n",
        "\n",
        "# Train the model\n",
        "model.fit(X, y)\n",
        "\n",
        "# Try predicting the life satisfaction from the test set GDP\n",
        "y_pred = model.predict(test[['gdp_per_capita']])\n",
        "\n",
        "# life satisfaction value from the test set.\n",
        "error = mean_squared_error(test['life_satisfaction'], y_pred, squared=False)\n",
        "\n",
        "# Show the error value\n",
        "error\n",
        "Elist.append(error )\n",
        "print(Elist)"
      ]
    },
    {
      "cell_type": "code",
      "execution_count": 47,
      "metadata": {
        "id": "3YDcO2KZi8P4",
        "colab": {
          "base_uri": "https://localhost:8080/"
        },
        "outputId": "33f74e64-3385-4c94-e87d-e8c626791ff4"
      },
      "outputs": [
        {
          "output_type": "stream",
          "name": "stdout",
          "text": [
            "[0.4666666666666668, 0.6000000000000005]\n"
          ]
        }
      ],
      "source": [
        "#model = LinearRegression()\n",
        "\n",
        "\n",
        "\n",
        "test = df.iloc[[1]]\n",
        "\n",
        "train = df.drop(1)\n",
        "\n",
        "\n",
        "X = train[['gdp_per_capita']]\n",
        "y = train['life_satisfaction']\n",
        "\n",
        "\n",
        "model.fit(X, y)\n",
        "\n",
        "y_pred = model.predict(test[['gdp_per_capita']])\n",
        "\n",
        "\n",
        "error = mean_squared_error(test['life_satisfaction'], y_pred, squared=False)\n",
        "\n",
        "# Show the error value\n",
        "error\n",
        "Elist.append(error )\n",
        "print(Elist)"
      ]
    },
    {
      "cell_type": "code",
      "source": [
        "#model = LinearRegression()\n",
        "\n",
        "test = df.iloc[[2]]\n",
        "\n",
        "train = df.drop(2)\n",
        "\n",
        "\n",
        "X = train[['gdp_per_capita']]\n",
        "y = train['life_satisfaction']\n",
        "\n",
        "\n",
        "model.fit(X, y)\n",
        "\n",
        "y_pred = model.predict(test[['gdp_per_capita']])\n",
        "\n",
        "\n",
        "error = mean_squared_error(test['life_satisfaction'], y_pred, squared=False)\n",
        "\n",
        "# Show the error value\n",
        "error\n",
        "Elist.append(error )\n",
        "print(Elist)"
      ],
      "metadata": {
        "colab": {
          "base_uri": "https://localhost:8080/"
        },
        "id": "gpOWP3ciNY-7",
        "outputId": "821dcadf-cd41-4e21-d459-de80f0c628ae"
      },
      "execution_count": 48,
      "outputs": [
        {
          "output_type": "stream",
          "name": "stdout",
          "text": [
            "[0.4666666666666668, 0.6000000000000005, 0.33333333333333304]\n"
          ]
        }
      ]
    },
    {
      "cell_type": "code",
      "source": [
        "#model = LinearRegression()\n",
        "\n",
        "test = df.iloc[[3]]\n",
        "\n",
        "train = df.drop(3)\n",
        "\n",
        "\n",
        "X = train[['gdp_per_capita']]\n",
        "y = train['life_satisfaction']\n",
        "\n",
        "\n",
        "model.fit(X, y)\n",
        "\n",
        "y_pred = model.predict(test[['gdp_per_capita']])\n",
        "\n",
        "\n",
        "error = mean_squared_error(test['life_satisfaction'], y_pred, squared=False)\n",
        "\n",
        "# Show the error value\n",
        "error\n",
        "Elist.append(error )\n",
        "print(Elist)"
      ],
      "metadata": {
        "colab": {
          "base_uri": "https://localhost:8080/"
        },
        "id": "-w0LSGKDN28C",
        "outputId": "30dab1f6-89c1-4c36-b6a8-0e211db3748e"
      },
      "execution_count": 49,
      "outputs": [
        {
          "output_type": "stream",
          "name": "stdout",
          "text": [
            "[0.4666666666666668, 0.6000000000000005, 0.33333333333333304, 0.7333333333333343]\n"
          ]
        }
      ]
    },
    {
      "cell_type": "code",
      "source": [
        "#model = LinearRegression()\n",
        "\n",
        "test = df.iloc[[4]]\n",
        "\n",
        "train = df.drop(4)\n",
        "\n",
        "\n",
        "X = train[['gdp_per_capita']]\n",
        "y = train['life_satisfaction']\n",
        "\n",
        "\n",
        "model.fit(X, y)\n",
        "\n",
        "y_pred = model.predict(test[['gdp_per_capita']])\n",
        "\n",
        "\n",
        "error = mean_squared_error(test['life_satisfaction'], y_pred, squared=False)\n",
        "\n",
        "# Show the error value\n",
        "error\n",
        "Elist.append(error )\n",
        "print(Elist)"
      ],
      "metadata": {
        "colab": {
          "base_uri": "https://localhost:8080/"
        },
        "id": "jcsnYb8JN_8x",
        "outputId": "157e1be6-1b38-42f6-83db-d32862111345"
      },
      "execution_count": 50,
      "outputs": [
        {
          "output_type": "stream",
          "name": "stdout",
          "text": [
            "[0.4666666666666668, 0.6000000000000005, 0.33333333333333304, 0.7333333333333343, 0.33333333333333304]\n"
          ]
        }
      ]
    },
    {
      "cell_type": "code",
      "source": [
        "#model = LinearRegression()\n",
        "\n",
        "test = df.iloc[[5]]\n",
        "\n",
        "train = df.drop(5)\n",
        "\n",
        "\n",
        "X = train[['gdp_per_capita']]\n",
        "y = train['life_satisfaction']\n",
        "\n",
        "\n",
        "model.fit(X, y)\n",
        "\n",
        "y_pred = model.predict(test[['gdp_per_capita']])\n",
        "\n",
        "\n",
        "error = mean_squared_error(test['life_satisfaction'], y_pred, squared=False)\n",
        "\n",
        "# Show the error value\n",
        "error\n",
        "Elist.append(error )\n",
        "print(Elist)"
      ],
      "metadata": {
        "colab": {
          "base_uri": "https://localhost:8080/"
        },
        "id": "EFLpRj2dOCNZ",
        "outputId": "31ed9139-1f56-4fd7-d088-a7aa5c5f2f28"
      },
      "execution_count": 51,
      "outputs": [
        {
          "output_type": "stream",
          "name": "stdout",
          "text": [
            "[0.4666666666666668, 0.6000000000000005, 0.33333333333333304, 0.7333333333333343, 0.33333333333333304, 0.16666666666666607]\n"
          ]
        }
      ]
    },
    {
      "cell_type": "code",
      "source": [
        "#model = LinearRegression()\n",
        "\n",
        "test = df.iloc[[6]]\n",
        "\n",
        "train = df.drop(6)\n",
        "\n",
        "\n",
        "X = train[['gdp_per_capita']]\n",
        "y = train['life_satisfaction']\n",
        "\n",
        "\n",
        "model.fit(X, y)\n",
        "\n",
        "y_pred = model.predict(test[['gdp_per_capita']])\n",
        "\n",
        "\n",
        "error = mean_squared_error(test['life_satisfaction'], y_pred, squared=False)\n",
        "\n",
        "# Show the error value\n",
        "error\n",
        "Elist.append(error )\n",
        "print(Elist)"
      ],
      "metadata": {
        "colab": {
          "base_uri": "https://localhost:8080/"
        },
        "id": "cx0u-0VPOEEZ",
        "outputId": "93ed0fae-d60d-4fe3-bcb3-48154ba2d8e8"
      },
      "execution_count": 52,
      "outputs": [
        {
          "output_type": "stream",
          "name": "stdout",
          "text": [
            "[0.4666666666666668, 0.6000000000000005, 0.33333333333333304, 0.7333333333333343, 0.33333333333333304, 0.16666666666666607, 0.16666666666666607]\n"
          ]
        }
      ]
    },
    {
      "cell_type": "code",
      "source": [
        "#model = LinearRegression()\n",
        "\n",
        "test = df.iloc[[7]]\n",
        "\n",
        "train = df.drop(7)\n",
        "\n",
        "\n",
        "X = train[['gdp_per_capita']]\n",
        "y = train['life_satisfaction']\n",
        "\n",
        "\n",
        "model.fit(X, y)\n",
        "\n",
        "y_pred = model.predict(test[['gdp_per_capita']])\n",
        "\n",
        "\n",
        "error = mean_squared_error(test['life_satisfaction'], y_pred, squared=False)\n",
        "\n",
        "# Show the error value\n",
        "error\n",
        "Elist.append(error )\n",
        "print(Elist)"
      ],
      "metadata": {
        "colab": {
          "base_uri": "https://localhost:8080/"
        },
        "id": "uHeO_xctOF9Q",
        "outputId": "6fa36cfd-33d6-43f3-f938-2ad11a79609f"
      },
      "execution_count": 53,
      "outputs": [
        {
          "output_type": "stream",
          "name": "stdout",
          "text": [
            "[0.4666666666666668, 0.6000000000000005, 0.33333333333333304, 0.7333333333333343, 0.33333333333333304, 0.16666666666666607, 0.16666666666666607, 0.09999999999999964]\n"
          ]
        }
      ]
    },
    {
      "cell_type": "code",
      "source": [
        "#model = LinearRegression()\n",
        "\n",
        "test = df.iloc[[8]]\n",
        "\n",
        "train = df.drop(8)\n",
        "\n",
        "\n",
        "X = train[['gdp_per_capita']]\n",
        "y = train['life_satisfaction']\n",
        "\n",
        "\n",
        "model.fit(X, y)\n",
        "\n",
        "y_pred = model.predict(test[['gdp_per_capita']])\n",
        "\n",
        "\n",
        "error = mean_squared_error(test['life_satisfaction'], y_pred, squared=False)\n",
        "\n",
        "# Show the error value\n",
        "error\n",
        "Elist.append(error )\n",
        "print(Elist)"
      ],
      "metadata": {
        "colab": {
          "base_uri": "https://localhost:8080/"
        },
        "id": "8Iui9wIwOIJH",
        "outputId": "965cd6f4-e701-4d0a-d264-772d70d73c64"
      },
      "execution_count": 54,
      "outputs": [
        {
          "output_type": "stream",
          "name": "stdout",
          "text": [
            "[0.4666666666666668, 0.6000000000000005, 0.33333333333333304, 0.7333333333333343, 0.33333333333333304, 0.16666666666666607, 0.16666666666666607, 0.09999999999999964, 0.9333333333333336]\n"
          ]
        }
      ]
    },
    {
      "cell_type": "code",
      "source": [
        "#model = LinearRegression()\n",
        "\n",
        "test = df.iloc[[9]]\n",
        "\n",
        "train = df.drop(9)\n",
        "\n",
        "\n",
        "X = train[['gdp_per_capita']]\n",
        "y = train['life_satisfaction']\n",
        "\n",
        "\n",
        "model.fit(X, y)\n",
        "\n",
        "y_pred = model.predict(test[['gdp_per_capita']])\n",
        "\n",
        "\n",
        "error = mean_squared_error(test['life_satisfaction'], y_pred, squared=False)\n",
        "\n",
        "# Show the error value\n",
        "error\n",
        "Elist.append(error )\n",
        "print(Elist)"
      ],
      "metadata": {
        "colab": {
          "base_uri": "https://localhost:8080/"
        },
        "id": "m-mmqgrvOKg4",
        "outputId": "668f54f5-c98a-4b59-a5f2-5eaa4416effe"
      },
      "execution_count": 55,
      "outputs": [
        {
          "output_type": "stream",
          "name": "stdout",
          "text": [
            "[0.4666666666666668, 0.6000000000000005, 0.33333333333333304, 0.7333333333333343, 0.33333333333333304, 0.16666666666666607, 0.16666666666666607, 0.09999999999999964, 0.9333333333333336, 0.40000000000000036]\n"
          ]
        }
      ]
    },
    {
      "cell_type": "code",
      "source": [
        "#model = LinearRegression()\n",
        "\n",
        "test = df.iloc[[10]]\n",
        "\n",
        "train = df.drop(10)\n",
        "\n",
        "\n",
        "X = train[['gdp_per_capita']]\n",
        "y = train['life_satisfaction']\n",
        "\n",
        "\n",
        "model.fit(X, y)\n",
        "\n",
        "y_pred = model.predict(test[['gdp_per_capita']])\n",
        "\n",
        "\n",
        "error = mean_squared_error(test['life_satisfaction'], y_pred, squared=False)\n",
        "\n",
        "# Show the error value\n",
        "error\n",
        "Elist.append(error )\n",
        "print(Elist)"
      ],
      "metadata": {
        "colab": {
          "base_uri": "https://localhost:8080/"
        },
        "id": "nijb5KHqOM-y",
        "outputId": "5e79f68b-ddd3-415c-97ec-79be943d0ce9"
      },
      "execution_count": 56,
      "outputs": [
        {
          "output_type": "stream",
          "name": "stdout",
          "text": [
            "[0.4666666666666668, 0.6000000000000005, 0.33333333333333304, 0.7333333333333343, 0.33333333333333304, 0.16666666666666607, 0.16666666666666607, 0.09999999999999964, 0.9333333333333336, 0.40000000000000036, 0.5333333333333332]\n"
          ]
        }
      ]
    },
    {
      "cell_type": "code",
      "source": [
        "#model = LinearRegression()\n",
        "\n",
        "test = df.iloc[[11]]\n",
        "\n",
        "train = df.drop(11)\n",
        "\n",
        "\n",
        "X = train[['gdp_per_capita']]\n",
        "y = train['life_satisfaction']\n",
        "\n",
        "\n",
        "model.fit(X, y)\n",
        "\n",
        "y_pred = model.predict(test[['gdp_per_capita']])\n",
        "\n",
        "\n",
        "error = mean_squared_error(test['life_satisfaction'], y_pred, squared=False)\n",
        "\n",
        "# Show the error value\n",
        "error\n",
        "Elist.append(error )\n",
        "print(Elist)"
      ],
      "metadata": {
        "colab": {
          "base_uri": "https://localhost:8080/"
        },
        "id": "7ibpmzfKOOqL",
        "outputId": "8590f10d-f679-40b9-b377-47a15fef5874"
      },
      "execution_count": 57,
      "outputs": [
        {
          "output_type": "stream",
          "name": "stdout",
          "text": [
            "[0.4666666666666668, 0.6000000000000005, 0.33333333333333304, 0.7333333333333343, 0.33333333333333304, 0.16666666666666607, 0.16666666666666607, 0.09999999999999964, 0.9333333333333336, 0.40000000000000036, 0.5333333333333332, 0.2666666666666666]\n"
          ]
        }
      ]
    },
    {
      "cell_type": "code",
      "source": [
        "#model = LinearRegression()\n",
        "\n",
        "test = df.iloc[[12]]\n",
        "\n",
        "train = df.drop(12)\n",
        "\n",
        "\n",
        "X = train[['gdp_per_capita']]\n",
        "y = train['life_satisfaction']\n",
        "\n",
        "\n",
        "model.fit(X, y)\n",
        "\n",
        "y_pred = model.predict(test[['gdp_per_capita']])\n",
        "\n",
        "\n",
        "error = mean_squared_error(test['life_satisfaction'], y_pred, squared=False)\n",
        "\n",
        "# Show the error value\n",
        "error\n",
        "Elist.append(error )\n",
        "print(Elist)"
      ],
      "metadata": {
        "colab": {
          "base_uri": "https://localhost:8080/"
        },
        "id": "lbNcnTykOQFo",
        "outputId": "8b279540-ffa4-48c0-b32e-c05afada4965"
      },
      "execution_count": 58,
      "outputs": [
        {
          "output_type": "stream",
          "name": "stdout",
          "text": [
            "[0.4666666666666668, 0.6000000000000005, 0.33333333333333304, 0.7333333333333343, 0.33333333333333304, 0.16666666666666607, 0.16666666666666607, 0.09999999999999964, 0.9333333333333336, 0.40000000000000036, 0.5333333333333332, 0.2666666666666666, 0.40000000000000036]\n"
          ]
        }
      ]
    },
    {
      "cell_type": "code",
      "source": [
        "#model = LinearRegression()\n",
        "\n",
        "test = df.iloc[[13]]\n",
        "\n",
        "train = df.drop(13)\n",
        "\n",
        "\n",
        "X = train[['gdp_per_capita']]\n",
        "y = train['life_satisfaction']\n",
        "\n",
        "\n",
        "model.fit(X, y)\n",
        "\n",
        "y_pred = model.predict(test[['gdp_per_capita']])\n",
        "\n",
        "\n",
        "error = mean_squared_error(test['life_satisfaction'], y_pred, squared=False)\n",
        "\n",
        "# Show the error value\n",
        "error\n",
        "Elist.append(error )\n",
        "print(Elist)"
      ],
      "metadata": {
        "colab": {
          "base_uri": "https://localhost:8080/"
        },
        "id": "k6Xqrk57OSKZ",
        "outputId": "b085d43f-d821-4434-9d5e-6fc79507a136"
      },
      "execution_count": 59,
      "outputs": [
        {
          "output_type": "stream",
          "name": "stdout",
          "text": [
            "[0.4666666666666668, 0.6000000000000005, 0.33333333333333304, 0.7333333333333343, 0.33333333333333304, 0.16666666666666607, 0.16666666666666607, 0.09999999999999964, 0.9333333333333336, 0.40000000000000036, 0.5333333333333332, 0.2666666666666666, 0.40000000000000036, 0.36666666666666625]\n"
          ]
        }
      ]
    },
    {
      "cell_type": "code",
      "source": [
        "#model = LinearRegression()\n",
        "\n",
        "test = df.iloc[[14]]\n",
        "\n",
        "train = df.drop(14)\n",
        "\n",
        "\n",
        "X = train[['gdp_per_capita']]\n",
        "y = train['life_satisfaction']\n",
        "\n",
        "\n",
        "model.fit(X, y)\n",
        "\n",
        "y_pred = model.predict(test[['gdp_per_capita']])\n",
        "\n",
        "\n",
        "error = mean_squared_error(test['life_satisfaction'], y_pred, squared=False)\n",
        "\n",
        "# Show the error value\n",
        "error\n",
        "Elist.append(error )\n",
        "print(Elist)"
      ],
      "metadata": {
        "colab": {
          "base_uri": "https://localhost:8080/"
        },
        "id": "NYR4eBeMOUfS",
        "outputId": "14c8676a-d124-4033-8fe1-f46c8a2523fb"
      },
      "execution_count": 60,
      "outputs": [
        {
          "output_type": "stream",
          "name": "stdout",
          "text": [
            "[0.4666666666666668, 0.6000000000000005, 0.33333333333333304, 0.7333333333333343, 0.33333333333333304, 0.16666666666666607, 0.16666666666666607, 0.09999999999999964, 0.9333333333333336, 0.40000000000000036, 0.5333333333333332, 0.2666666666666666, 0.40000000000000036, 0.36666666666666625, 0.16666666666666696]\n"
          ]
        }
      ]
    },
    {
      "cell_type": "code",
      "source": [
        "#model = LinearRegression()\n",
        "\n",
        "test = df.iloc[[15]]\n",
        "\n",
        "train = df.drop(15)\n",
        "\n",
        "\n",
        "X = train[['gdp_per_capita']]\n",
        "y = train['life_satisfaction']\n",
        "\n",
        "\n",
        "model.fit(X, y)\n",
        "\n",
        "y_pred = model.predict(test[['gdp_per_capita']])\n",
        "\n",
        "\n",
        "error = mean_squared_error(test['life_satisfaction'], y_pred, squared=False)\n",
        "\n",
        "# Show the error value\n",
        "error\n",
        "Elist.append(error )\n",
        "print(Elist)"
      ],
      "metadata": {
        "colab": {
          "base_uri": "https://localhost:8080/"
        },
        "id": "yYWhJTuPOWrt",
        "outputId": "f961cd56-5ffc-4f69-c39a-e1e0a9ba4fb8"
      },
      "execution_count": 61,
      "outputs": [
        {
          "output_type": "stream",
          "name": "stdout",
          "text": [
            "[0.4666666666666668, 0.6000000000000005, 0.33333333333333304, 0.7333333333333343, 0.33333333333333304, 0.16666666666666607, 0.16666666666666607, 0.09999999999999964, 0.9333333333333336, 0.40000000000000036, 0.5333333333333332, 0.2666666666666666, 0.40000000000000036, 0.36666666666666625, 0.16666666666666696, 0.0333333333333341]\n"
          ]
        }
      ]
    },
    {
      "cell_type": "code",
      "source": [
        "#model = LinearRegression()\n",
        "\n",
        "test = df.iloc[[16]]\n",
        "\n",
        "train = df.drop(16)\n",
        "\n",
        "\n",
        "X = train[['gdp_per_capita']]\n",
        "y = train['life_satisfaction']\n",
        "\n",
        "\n",
        "model.fit(X, y)\n",
        "\n",
        "y_pred = model.predict(test[['gdp_per_capita']])\n",
        "\n",
        "\n",
        "error = mean_squared_error(test['life_satisfaction'], y_pred, squared=False)\n",
        "\n",
        "# Show the error value\n",
        "error\n",
        "Elist.append(error )\n",
        "print(Elist)"
      ],
      "metadata": {
        "colab": {
          "base_uri": "https://localhost:8080/"
        },
        "id": "Wue5V_GKOZAq",
        "outputId": "a7271844-818a-41b2-82e1-6568295d4e83"
      },
      "execution_count": 62,
      "outputs": [
        {
          "output_type": "stream",
          "name": "stdout",
          "text": [
            "[0.4666666666666668, 0.6000000000000005, 0.33333333333333304, 0.7333333333333343, 0.33333333333333304, 0.16666666666666607, 0.16666666666666607, 0.09999999999999964, 0.9333333333333336, 0.40000000000000036, 0.5333333333333332, 0.2666666666666666, 0.40000000000000036, 0.36666666666666625, 0.16666666666666696, 0.0333333333333341, 0.9333333333333327]\n"
          ]
        }
      ]
    },
    {
      "cell_type": "code",
      "source": [
        "#model = LinearRegression()\n",
        "\n",
        "test = df.iloc[[17]]\n",
        "\n",
        "train = df.drop(17)\n",
        "\n",
        "\n",
        "X = train[['gdp_per_capita']]\n",
        "y = train['life_satisfaction']\n",
        "\n",
        "\n",
        "model.fit(X, y)\n",
        "\n",
        "y_pred = model.predict(test[['gdp_per_capita']])\n",
        "\n",
        "\n",
        "error = mean_squared_error(test['life_satisfaction'], y_pred, squared=False)\n",
        "\n",
        "# Show the error value\n",
        "error\n",
        "Elist.append(error )\n",
        "print(Elist)"
      ],
      "metadata": {
        "colab": {
          "base_uri": "https://localhost:8080/"
        },
        "id": "Fc14aEIDOcQV",
        "outputId": "2cbb84f0-69ee-476a-c37c-768c1e125ac9"
      },
      "execution_count": 63,
      "outputs": [
        {
          "output_type": "stream",
          "name": "stdout",
          "text": [
            "[0.4666666666666668, 0.6000000000000005, 0.33333333333333304, 0.7333333333333343, 0.33333333333333304, 0.16666666666666607, 0.16666666666666607, 0.09999999999999964, 0.9333333333333336, 0.40000000000000036, 0.5333333333333332, 0.2666666666666666, 0.40000000000000036, 0.36666666666666625, 0.16666666666666696, 0.0333333333333341, 0.9333333333333327, 0.6333333333333329]\n"
          ]
        }
      ]
    },
    {
      "cell_type": "code",
      "source": [
        "#model = LinearRegression()\n",
        "\n",
        "test = df.iloc[[18]]\n",
        "\n",
        "train = df.drop(18)\n",
        "\n",
        "\n",
        "X = train[['gdp_per_capita']]\n",
        "y = train['life_satisfaction']\n",
        "\n",
        "\n",
        "model.fit(X, y)\n",
        "\n",
        "y_pred = model.predict(test[['gdp_per_capita']])\n",
        "\n",
        "\n",
        "error = mean_squared_error(test['life_satisfaction'], y_pred, squared=False)\n",
        "\n",
        "# Show the error value\n",
        "error\n",
        "Elist.append(error )\n",
        "print(Elist)"
      ],
      "metadata": {
        "colab": {
          "base_uri": "https://localhost:8080/"
        },
        "id": "OEOO-9deOea5",
        "outputId": "d402771c-db29-4ebd-a75e-cf81ecc7618e"
      },
      "execution_count": 64,
      "outputs": [
        {
          "output_type": "stream",
          "name": "stdout",
          "text": [
            "[0.4666666666666668, 0.6000000000000005, 0.33333333333333304, 0.7333333333333343, 0.33333333333333304, 0.16666666666666607, 0.16666666666666607, 0.09999999999999964, 0.9333333333333336, 0.40000000000000036, 0.5333333333333332, 0.2666666666666666, 0.40000000000000036, 0.36666666666666625, 0.16666666666666696, 0.0333333333333341, 0.9333333333333327, 0.6333333333333329, 0.4333333333333327]\n"
          ]
        }
      ]
    },
    {
      "cell_type": "code",
      "source": [
        "#model = LinearRegression()\n",
        "\n",
        "test = df.iloc[[19]]\n",
        "\n",
        "train = df.drop(19)\n",
        "\n",
        "\n",
        "X = train[['gdp_per_capita']]\n",
        "y = train['life_satisfaction']\n",
        "\n",
        "\n",
        "model.fit(X, y)\n",
        "\n",
        "y_pred = model.predict(test[['gdp_per_capita']])\n",
        "\n",
        "\n",
        "error = mean_squared_error(test['life_satisfaction'], y_pred, squared=False)\n",
        "\n",
        "# Show the error value\n",
        "error\n",
        "Elist.append(error )\n",
        "print(Elist)"
      ],
      "metadata": {
        "colab": {
          "base_uri": "https://localhost:8080/"
        },
        "id": "_CM5NA6xOfr0",
        "outputId": "e11380ff-88a9-4430-d76c-ba86e709ef1d"
      },
      "execution_count": 66,
      "outputs": [
        {
          "output_type": "stream",
          "name": "stdout",
          "text": [
            "[0.4666666666666668, 0.6000000000000005, 0.33333333333333304, 0.7333333333333343, 0.33333333333333304, 0.16666666666666607, 0.16666666666666607, 0.09999999999999964, 0.9333333333333336, 0.40000000000000036, 0.5333333333333332, 0.2666666666666666, 0.40000000000000036, 0.36666666666666625, 0.16666666666666696, 0.0333333333333341, 0.9333333333333327, 0.6333333333333329, 0.4333333333333327, 0.24784136083722785, 0.24784136083722785]\n"
          ]
        }
      ]
    },
    {
      "cell_type": "code",
      "source": [
        "#model = LinearRegression()\n",
        "\n",
        "test = df.iloc[[20]]\n",
        "\n",
        "train = df.drop(20)\n",
        "\n",
        "\n",
        "X = train[['gdp_per_capita']]\n",
        "y = train['life_satisfaction']\n",
        "\n",
        "\n",
        "model.fit(X, y)\n",
        "\n",
        "y_pred = model.predict(test[['gdp_per_capita']])\n",
        "\n",
        "\n",
        "error = mean_squared_error(test['life_satisfaction'], y_pred, squared=False)\n",
        "\n",
        "# Show the error value\n",
        "error\n",
        "Elist.append(error )\n",
        "print(Elist)"
      ],
      "metadata": {
        "colab": {
          "base_uri": "https://localhost:8080/"
        },
        "id": "6M8DJLQ4OiX4",
        "outputId": "89fc82d7-eccd-4f41-ab34-2a349969db29"
      },
      "execution_count": 67,
      "outputs": [
        {
          "output_type": "stream",
          "name": "stdout",
          "text": [
            "[0.4666666666666668, 0.6000000000000005, 0.33333333333333304, 0.7333333333333343, 0.33333333333333304, 0.16666666666666607, 0.16666666666666607, 0.09999999999999964, 0.9333333333333336, 0.40000000000000036, 0.5333333333333332, 0.2666666666666666, 0.40000000000000036, 0.36666666666666625, 0.16666666666666696, 0.0333333333333341, 0.9333333333333327, 0.6333333333333329, 0.4333333333333327, 0.24784136083722785, 0.24784136083722785, 0.6681327157202865]\n"
          ]
        }
      ]
    },
    {
      "cell_type": "code",
      "source": [
        "#model = LinearRegression()\n",
        "\n",
        "test = df.iloc[[21]]\n",
        "\n",
        "train = df.drop(21)\n",
        "\n",
        "\n",
        "X = train[['gdp_per_capita']]\n",
        "y = train['life_satisfaction']\n",
        "\n",
        "\n",
        "model.fit(X, y)\n",
        "\n",
        "y_pred = model.predict(test[['gdp_per_capita']])\n",
        "\n",
        "\n",
        "error = mean_squared_error(test['life_satisfaction'], y_pred, squared=False)\n",
        "\n",
        "# Show the error value\n",
        "error\n",
        "Elist.append(error )\n",
        "print(Elist)"
      ],
      "metadata": {
        "colab": {
          "base_uri": "https://localhost:8080/"
        },
        "id": "yvzxYtp7OlHa",
        "outputId": "14a9022b-fdfc-4a20-f7ba-d73a88a227d2"
      },
      "execution_count": 68,
      "outputs": [
        {
          "output_type": "stream",
          "name": "stdout",
          "text": [
            "[0.4666666666666668, 0.6000000000000005, 0.33333333333333304, 0.7333333333333343, 0.33333333333333304, 0.16666666666666607, 0.16666666666666607, 0.09999999999999964, 0.9333333333333336, 0.40000000000000036, 0.5333333333333332, 0.2666666666666666, 0.40000000000000036, 0.36666666666666625, 0.16666666666666696, 0.0333333333333341, 0.9333333333333327, 0.6333333333333329, 0.4333333333333327, 0.24784136083722785, 0.24784136083722785, 0.6681327157202865, 0.774886934500242]\n"
          ]
        }
      ]
    },
    {
      "cell_type": "code",
      "source": [
        "#model = LinearRegression()\n",
        "\n",
        "#test = df.iloc[[22]]\n",
        "\n",
        "train = df.drop(22)\n",
        "\n",
        "\n",
        "X = train[['gdp_per_capita']]\n",
        "y = train['life_satisfaction']\n",
        "\n",
        "\n",
        "model.fit(X, y)\n",
        "\n",
        "y_pred = model.predict(test[['gdp_per_capita']])\n",
        "\n",
        "\n",
        "error = mean_squared_error(test['life_satisfaction'], y_pred, squared=False)\n",
        "\n",
        "# Show the error value\n",
        "error\n",
        "Elist.append(error )\n",
        "print(Elist)"
      ],
      "metadata": {
        "colab": {
          "base_uri": "https://localhost:8080/"
        },
        "id": "whdyBUijOm2K",
        "outputId": "a32fc617-ac51-441a-a01c-ad1ad47de2e6"
      },
      "execution_count": 69,
      "outputs": [
        {
          "output_type": "stream",
          "name": "stdout",
          "text": [
            "[0.4666666666666668, 0.6000000000000005, 0.33333333333333304, 0.7333333333333343, 0.33333333333333304, 0.16666666666666607, 0.16666666666666607, 0.09999999999999964, 0.9333333333333336, 0.40000000000000036, 0.5333333333333332, 0.2666666666666666, 0.40000000000000036, 0.36666666666666625, 0.16666666666666696, 0.0333333333333341, 0.9333333333333327, 0.6333333333333329, 0.4333333333333327, 0.24784136083722785, 0.24784136083722785, 0.6681327157202865, 0.774886934500242, 0.8132484456157947]\n"
          ]
        }
      ]
    },
    {
      "cell_type": "code",
      "source": [
        "#model = LinearRegression()\n",
        "\n",
        "#test = df.iloc[[23]]\n",
        "\n",
        "train = df.drop(23)\n",
        "\n",
        "\n",
        "X = train[['gdp_per_capita']]\n",
        "y = train['life_satisfaction']\n",
        "\n",
        "\n",
        "model.fit(X, y)\n",
        "\n",
        "y_pred = model.predict(test[['gdp_per_capita']])\n",
        "\n",
        "\n",
        "error = mean_squared_error(test['life_satisfaction'], y_pred, squared=False)\n",
        "\n",
        "# Show the error value\n",
        "error\n",
        "Elist.append(error )\n",
        "print(Elist)"
      ],
      "metadata": {
        "colab": {
          "base_uri": "https://localhost:8080/"
        },
        "id": "sfC9_84lOo3D",
        "outputId": "d3a498f7-4cdf-419a-9236-3f94f06438b6"
      },
      "execution_count": 70,
      "outputs": [
        {
          "output_type": "stream",
          "name": "stdout",
          "text": [
            "[0.4666666666666668, 0.6000000000000005, 0.33333333333333304, 0.7333333333333343, 0.33333333333333304, 0.16666666666666607, 0.16666666666666607, 0.09999999999999964, 0.9333333333333336, 0.40000000000000036, 0.5333333333333332, 0.2666666666666666, 0.40000000000000036, 0.36666666666666625, 0.16666666666666696, 0.0333333333333341, 0.9333333333333327, 0.6333333333333329, 0.4333333333333327, 0.24784136083722785, 0.24784136083722785, 0.6681327157202865, 0.774886934500242, 0.8132484456157947, 0.804340791661045]\n"
          ]
        }
      ]
    },
    {
      "cell_type": "code",
      "source": [
        "#model = LinearRegression()\n",
        "\n",
        "test = df.iloc[[24]]\n",
        "\n",
        "train = df.drop(24)\n",
        "\n",
        "\n",
        "X = train[['gdp_per_capita']]\n",
        "y = train['life_satisfaction']\n",
        "\n",
        "\n",
        "model.fit(X, y)\n",
        "\n",
        "y_pred = model.predict(test[['gdp_per_capita']])\n",
        "\n",
        "\n",
        "error = mean_squared_error(test['life_satisfaction'], y_pred, squared=False)\n",
        "\n",
        "# Show the error value\n",
        "error\n",
        "Elist.append(error)"
      ],
      "metadata": {
        "id": "xL8TF-aGOqvS"
      },
      "execution_count": 71,
      "outputs": []
    },
    {
      "cell_type": "code",
      "source": [
        "#model = LinearRegression()\n",
        "\n",
        "test = df.iloc[[25]]\n",
        "\n",
        "train = df.drop(25)\n",
        "\n",
        "\n",
        "X = train[['gdp_per_capita']]\n",
        "y = train['life_satisfaction']\n",
        "\n",
        "\n",
        "model.fit(X, y)\n",
        "\n",
        "y_pred = model.predict(test[['gdp_per_capita']])\n",
        "\n",
        "\n",
        "error = mean_squared_error(test['life_satisfaction'], y_pred, squared=False)\n",
        "\n",
        "# Show the error value\n",
        "error\n",
        "Elist.append(error )\n",
        "print(Elist)"
      ],
      "metadata": {
        "colab": {
          "base_uri": "https://localhost:8080/"
        },
        "id": "4f5us0FYOvrb",
        "outputId": "843ac443-f313-4f62-d138-9855e12cb282"
      },
      "execution_count": 72,
      "outputs": [
        {
          "output_type": "stream",
          "name": "stdout",
          "text": [
            "[0.4666666666666668, 0.6000000000000005, 0.33333333333333304, 0.7333333333333343, 0.33333333333333304, 0.16666666666666607, 0.16666666666666607, 0.09999999999999964, 0.9333333333333336, 0.40000000000000036, 0.5333333333333332, 0.2666666666666666, 0.40000000000000036, 0.36666666666666625, 0.16666666666666696, 0.0333333333333341, 0.9333333333333327, 0.6333333333333329, 0.4333333333333327, 0.24784136083722785, 0.24784136083722785, 0.6681327157202865, 0.774886934500242, 0.8132484456157947, 0.804340791661045, 1.2082169584584541, 0.8870869873713723]\n"
          ]
        }
      ]
    },
    {
      "cell_type": "code",
      "source": [
        "#model = LinearRegression()\n",
        "\n",
        "#test = df.iloc[[26]]\n",
        "\n",
        "train = df.drop(26)\n",
        "\n",
        "\n",
        "X = train[['gdp_per_capita']]\n",
        "y = train['life_satisfaction']\n",
        "\n",
        "\n",
        "model.fit(X, y)\n",
        "\n",
        "y_pred = model.predict(test[['gdp_per_capita']])\n",
        "\n",
        "\n",
        "error = mean_squared_error(test['life_satisfaction'], y_pred, squared=False)\n",
        "\n",
        "# Show the error value\n",
        "error\n",
        "Elist.append(error )\n",
        "print(Elist)"
      ],
      "metadata": {
        "colab": {
          "base_uri": "https://localhost:8080/"
        },
        "id": "E9oO2WLHOyCh",
        "outputId": "e074d138-1a54-45ac-fab2-bc45575f5466"
      },
      "execution_count": 73,
      "outputs": [
        {
          "output_type": "stream",
          "name": "stdout",
          "text": [
            "[0.4666666666666668, 0.6000000000000005, 0.33333333333333304, 0.7333333333333343, 0.33333333333333304, 0.16666666666666607, 0.16666666666666607, 0.09999999999999964, 0.9333333333333336, 0.40000000000000036, 0.5333333333333332, 0.2666666666666666, 0.40000000000000036, 0.36666666666666625, 0.16666666666666696, 0.0333333333333341, 0.9333333333333327, 0.6333333333333329, 0.4333333333333327, 0.24784136083722785, 0.24784136083722785, 0.6681327157202865, 0.774886934500242, 0.8132484456157947, 0.804340791661045, 1.2082169584584541, 0.8870869873713723, 0.8655022086293727]\n"
          ]
        }
      ]
    },
    {
      "cell_type": "code",
      "source": [
        "#model = LinearRegression()\n",
        "\n",
        "test = df.iloc[[27]]\n",
        "\n",
        "train = df.drop(27)\n",
        "\n",
        "\n",
        "X = train[['gdp_per_capita']]\n",
        "y = train['life_satisfaction']\n",
        "\n",
        "\n",
        "model.fit(X, y)\n",
        "\n",
        "y_pred = model.predict(test[['gdp_per_capita']])\n",
        "\n",
        "\n",
        "error = mean_squared_error(test['life_satisfaction'], y_pred, squared=False)\n",
        "\n",
        "# Show the error value\n",
        "error\n",
        "Elist.append(error )\n",
        "print(Elist)"
      ],
      "metadata": {
        "colab": {
          "base_uri": "https://localhost:8080/"
        },
        "id": "M_LPF2MMO0lB",
        "outputId": "8dc5d769-2877-468a-b0c8-2d239d68402f"
      },
      "execution_count": 74,
      "outputs": [
        {
          "output_type": "stream",
          "name": "stdout",
          "text": [
            "[0.4666666666666668, 0.6000000000000005, 0.33333333333333304, 0.7333333333333343, 0.33333333333333304, 0.16666666666666607, 0.16666666666666607, 0.09999999999999964, 0.9333333333333336, 0.40000000000000036, 0.5333333333333332, 0.2666666666666666, 0.40000000000000036, 0.36666666666666625, 0.16666666666666696, 0.0333333333333341, 0.9333333333333327, 0.6333333333333329, 0.4333333333333327, 0.24784136083722785, 0.24784136083722785, 0.6681327157202865, 0.774886934500242, 0.8132484456157947, 0.804340791661045, 1.2082169584584541, 0.8870869873713723, 0.8655022086293727, 1.13289478020896]\n"
          ]
        }
      ]
    },
    {
      "cell_type": "code",
      "source": [
        "#model = LinearRegression()\n",
        "\n",
        "test = df.iloc[[28]]\n",
        "\n",
        "train = df.drop(28)\n",
        "\n",
        "\n",
        "X = train[['gdp_per_capita']]\n",
        "y = train['life_satisfaction']\n",
        "\n",
        "\n",
        "model.fit(X, y)\n",
        "\n",
        "y_pred = model.predict(test[['gdp_per_capita']])\n",
        "\n",
        "\n",
        "error = mean_squared_error(test['life_satisfaction'], y_pred, squared=False)\n",
        "\n",
        "# Show the error value\n",
        "error\n",
        "Elist.append(error)\n",
        "print(Elist)\n"
      ],
      "metadata": {
        "colab": {
          "base_uri": "https://localhost:8080/"
        },
        "id": "1ksWmhmnO2vo",
        "outputId": "45d115b9-09ee-454f-ccb8-399dc2434a97"
      },
      "execution_count": 75,
      "outputs": [
        {
          "output_type": "stream",
          "name": "stdout",
          "text": [
            "[0.4666666666666668, 0.6000000000000005, 0.33333333333333304, 0.7333333333333343, 0.33333333333333304, 0.16666666666666607, 0.16666666666666607, 0.09999999999999964, 0.9333333333333336, 0.40000000000000036, 0.5333333333333332, 0.2666666666666666, 0.40000000000000036, 0.36666666666666625, 0.16666666666666696, 0.0333333333333341, 0.9333333333333327, 0.6333333333333329, 0.4333333333333327, 0.24784136083722785, 0.24784136083722785, 0.6681327157202865, 0.774886934500242, 0.8132484456157947, 0.804340791661045, 1.2082169584584541, 0.8870869873713723, 0.8655022086293727, 1.13289478020896, 1.3637908260275564]\n"
          ]
        }
      ]
    },
    {
      "cell_type": "code",
      "source": [
        "#model = LinearRegression()\n",
        "\n",
        "test = df.iloc[[29]]\n",
        "\n",
        "train = df.drop(29)\n",
        "\n",
        "\n",
        "X = train[['gdp_per_capita']]\n",
        "y = train['life_satisfaction']\n",
        "\n",
        "\n",
        "model.fit(X, y)\n",
        "\n",
        "y_pred = model.predict(test[['gdp_per_capita']])\n",
        "\n",
        "\n",
        "error = mean_squared_error(test['life_satisfaction'], y_pred, squared=False)\n",
        "\n",
        "# Show the error value\n",
        "error\n",
        "Elist.append(error)\n",
        "print(Elist)"
      ],
      "metadata": {
        "colab": {
          "base_uri": "https://localhost:8080/"
        },
        "id": "NiWd3u92OwDc",
        "outputId": "a5d5c7aa-bc1e-4b84-b18a-8687f31b230b"
      },
      "execution_count": 76,
      "outputs": [
        {
          "output_type": "stream",
          "name": "stdout",
          "text": [
            "[0.4666666666666668, 0.6000000000000005, 0.33333333333333304, 0.7333333333333343, 0.33333333333333304, 0.16666666666666607, 0.16666666666666607, 0.09999999999999964, 0.9333333333333336, 0.40000000000000036, 0.5333333333333332, 0.2666666666666666, 0.40000000000000036, 0.36666666666666625, 0.16666666666666696, 0.0333333333333341, 0.9333333333333327, 0.6333333333333329, 0.4333333333333327, 0.24784136083722785, 0.24784136083722785, 0.6681327157202865, 0.774886934500242, 0.8132484456157947, 0.804340791661045, 1.2082169584584541, 0.8870869873713723, 0.8655022086293727, 1.13289478020896, 1.3637908260275564, 7.712355216108857]\n"
          ]
        }
      ]
    },
    {
      "cell_type": "code",
      "source": [
        "\n",
        "print(Elist)\n",
        "statistics.mean(Elist)\n"
      ],
      "metadata": {
        "colab": {
          "base_uri": "https://localhost:8080/"
        },
        "id": "mTPehwuHP46T",
        "outputId": "d9a3f804-d92a-42ce-85b3-dbcf236019b8"
      },
      "execution_count": 77,
      "outputs": [
        {
          "output_type": "stream",
          "name": "stdout",
          "text": [
            "[0.4666666666666668, 0.6000000000000005, 0.33333333333333304, 0.7333333333333343, 0.33333333333333304, 0.16666666666666607, 0.16666666666666607, 0.09999999999999964, 0.9333333333333336, 0.40000000000000036, 0.5333333333333332, 0.2666666666666666, 0.40000000000000036, 0.36666666666666625, 0.16666666666666696, 0.0333333333333341, 0.9333333333333327, 0.6333333333333329, 0.4333333333333327, 0.24784136083722785, 0.24784136083722785, 0.6681327157202865, 0.774886934500242, 0.8132484456157947, 0.804340791661045, 1.2082169584584541, 0.8870869873713723, 0.8655022086293727, 1.13289478020896, 1.3637908260275564, 7.712355216108857]\n"
          ]
        },
        {
          "output_type": "execute_result",
          "data": {
            "text/plain": [
              "0.797617373741174"
            ]
          },
          "metadata": {},
          "execution_count": 77
        }
      ]
    }
  ],
  "metadata": {
    "colab": {
      "collapsed_sections": [],
      "provenance": []
    },
    "kernelspec": {
      "display_name": "Python 3",
      "name": "python3"
    },
    "language_info": {
      "name": "python"
    }
  },
  "nbformat": 4,
  "nbformat_minor": 0
}