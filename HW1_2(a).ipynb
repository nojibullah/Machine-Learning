{
  "cells": [
    {
      "cell_type": "code",
      "execution_count": 7,
      "metadata": {
        "colab": {
          "base_uri": "https://localhost:8080/",
          "height": 990
        },
        "id": "bvEjhBZaahC4",
        "outputId": "1f44f92f-e29a-45c7-e3ee-a9cdd95363b4"
      },
      "outputs": [
        {
          "output_type": "execute_result",
          "data": {
            "text/plain": [
              "            country  gdp_per_capita  life_satisfaction\n",
              "0            Brazil        8669.998                6.4\n",
              "1            Mexico        9009.280                6.5\n",
              "2            Russia        9054.914                5.8\n",
              "3            Turkey        9437.372                5.5\n",
              "4            Poland       12495.334                6.1\n",
              "5            Latvia       13618.569                5.9\n",
              "6         Lithuania       14210.280                5.9\n",
              "7   Slovak Republic       15991.736                6.2\n",
              "8    Czech Republic       17256.918                6.7\n",
              "9           Estonia       17288.083                5.7\n",
              "10           Greece       18064.288                5.4\n",
              "11         Portugal       19121.592                5.4\n",
              "12         Slovenia       20732.482                5.9\n",
              "13            Spain       25864.721                6.3\n",
              "14            Korea       27195.197                5.9\n",
              "15            Italy       29866.581                6.0\n",
              "16            Japan       32485.545                5.9\n",
              "17           Israel       35343.336                7.2\n",
              "18      New Zealand       37044.891                7.3\n",
              "19           France       37675.006                6.5\n",
              "20          Belgium       40106.632                6.9\n",
              "21          Germany       40996.511                7.0\n",
              "22          Finland       41973.988                7.6\n",
              "23           Canada       43331.961                7.4\n",
              "24      Netherlands       43603.115                7.4\n",
              "25          Austria       43724.031                7.1\n",
              "26   United Kingdom       43770.688                6.8\n",
              "27           Sweden       49866.266                7.3\n",
              "28          Iceland       50854.583                7.5\n",
              "29        Faketopia       60000.000                0.0"
            ],
            "text/html": [
              "\n",
              "  <div id=\"df-6cb3e5df-e468-4958-9018-2f01365e61e4\">\n",
              "    <div class=\"colab-df-container\">\n",
              "      <div>\n",
              "<style scoped>\n",
              "    .dataframe tbody tr th:only-of-type {\n",
              "        vertical-align: middle;\n",
              "    }\n",
              "\n",
              "    .dataframe tbody tr th {\n",
              "        vertical-align: top;\n",
              "    }\n",
              "\n",
              "    .dataframe thead th {\n",
              "        text-align: right;\n",
              "    }\n",
              "</style>\n",
              "<table border=\"1\" class=\"dataframe\">\n",
              "  <thead>\n",
              "    <tr style=\"text-align: right;\">\n",
              "      <th></th>\n",
              "      <th>country</th>\n",
              "      <th>gdp_per_capita</th>\n",
              "      <th>life_satisfaction</th>\n",
              "    </tr>\n",
              "  </thead>\n",
              "  <tbody>\n",
              "    <tr>\n",
              "      <th>0</th>\n",
              "      <td>Brazil</td>\n",
              "      <td>8669.998</td>\n",
              "      <td>6.4</td>\n",
              "    </tr>\n",
              "    <tr>\n",
              "      <th>1</th>\n",
              "      <td>Mexico</td>\n",
              "      <td>9009.280</td>\n",
              "      <td>6.5</td>\n",
              "    </tr>\n",
              "    <tr>\n",
              "      <th>2</th>\n",
              "      <td>Russia</td>\n",
              "      <td>9054.914</td>\n",
              "      <td>5.8</td>\n",
              "    </tr>\n",
              "    <tr>\n",
              "      <th>3</th>\n",
              "      <td>Turkey</td>\n",
              "      <td>9437.372</td>\n",
              "      <td>5.5</td>\n",
              "    </tr>\n",
              "    <tr>\n",
              "      <th>4</th>\n",
              "      <td>Poland</td>\n",
              "      <td>12495.334</td>\n",
              "      <td>6.1</td>\n",
              "    </tr>\n",
              "    <tr>\n",
              "      <th>5</th>\n",
              "      <td>Latvia</td>\n",
              "      <td>13618.569</td>\n",
              "      <td>5.9</td>\n",
              "    </tr>\n",
              "    <tr>\n",
              "      <th>6</th>\n",
              "      <td>Lithuania</td>\n",
              "      <td>14210.280</td>\n",
              "      <td>5.9</td>\n",
              "    </tr>\n",
              "    <tr>\n",
              "      <th>7</th>\n",
              "      <td>Slovak Republic</td>\n",
              "      <td>15991.736</td>\n",
              "      <td>6.2</td>\n",
              "    </tr>\n",
              "    <tr>\n",
              "      <th>8</th>\n",
              "      <td>Czech Republic</td>\n",
              "      <td>17256.918</td>\n",
              "      <td>6.7</td>\n",
              "    </tr>\n",
              "    <tr>\n",
              "      <th>9</th>\n",
              "      <td>Estonia</td>\n",
              "      <td>17288.083</td>\n",
              "      <td>5.7</td>\n",
              "    </tr>\n",
              "    <tr>\n",
              "      <th>10</th>\n",
              "      <td>Greece</td>\n",
              "      <td>18064.288</td>\n",
              "      <td>5.4</td>\n",
              "    </tr>\n",
              "    <tr>\n",
              "      <th>11</th>\n",
              "      <td>Portugal</td>\n",
              "      <td>19121.592</td>\n",
              "      <td>5.4</td>\n",
              "    </tr>\n",
              "    <tr>\n",
              "      <th>12</th>\n",
              "      <td>Slovenia</td>\n",
              "      <td>20732.482</td>\n",
              "      <td>5.9</td>\n",
              "    </tr>\n",
              "    <tr>\n",
              "      <th>13</th>\n",
              "      <td>Spain</td>\n",
              "      <td>25864.721</td>\n",
              "      <td>6.3</td>\n",
              "    </tr>\n",
              "    <tr>\n",
              "      <th>14</th>\n",
              "      <td>Korea</td>\n",
              "      <td>27195.197</td>\n",
              "      <td>5.9</td>\n",
              "    </tr>\n",
              "    <tr>\n",
              "      <th>15</th>\n",
              "      <td>Italy</td>\n",
              "      <td>29866.581</td>\n",
              "      <td>6.0</td>\n",
              "    </tr>\n",
              "    <tr>\n",
              "      <th>16</th>\n",
              "      <td>Japan</td>\n",
              "      <td>32485.545</td>\n",
              "      <td>5.9</td>\n",
              "    </tr>\n",
              "    <tr>\n",
              "      <th>17</th>\n",
              "      <td>Israel</td>\n",
              "      <td>35343.336</td>\n",
              "      <td>7.2</td>\n",
              "    </tr>\n",
              "    <tr>\n",
              "      <th>18</th>\n",
              "      <td>New Zealand</td>\n",
              "      <td>37044.891</td>\n",
              "      <td>7.3</td>\n",
              "    </tr>\n",
              "    <tr>\n",
              "      <th>19</th>\n",
              "      <td>France</td>\n",
              "      <td>37675.006</td>\n",
              "      <td>6.5</td>\n",
              "    </tr>\n",
              "    <tr>\n",
              "      <th>20</th>\n",
              "      <td>Belgium</td>\n",
              "      <td>40106.632</td>\n",
              "      <td>6.9</td>\n",
              "    </tr>\n",
              "    <tr>\n",
              "      <th>21</th>\n",
              "      <td>Germany</td>\n",
              "      <td>40996.511</td>\n",
              "      <td>7.0</td>\n",
              "    </tr>\n",
              "    <tr>\n",
              "      <th>22</th>\n",
              "      <td>Finland</td>\n",
              "      <td>41973.988</td>\n",
              "      <td>7.6</td>\n",
              "    </tr>\n",
              "    <tr>\n",
              "      <th>23</th>\n",
              "      <td>Canada</td>\n",
              "      <td>43331.961</td>\n",
              "      <td>7.4</td>\n",
              "    </tr>\n",
              "    <tr>\n",
              "      <th>24</th>\n",
              "      <td>Netherlands</td>\n",
              "      <td>43603.115</td>\n",
              "      <td>7.4</td>\n",
              "    </tr>\n",
              "    <tr>\n",
              "      <th>25</th>\n",
              "      <td>Austria</td>\n",
              "      <td>43724.031</td>\n",
              "      <td>7.1</td>\n",
              "    </tr>\n",
              "    <tr>\n",
              "      <th>26</th>\n",
              "      <td>United Kingdom</td>\n",
              "      <td>43770.688</td>\n",
              "      <td>6.8</td>\n",
              "    </tr>\n",
              "    <tr>\n",
              "      <th>27</th>\n",
              "      <td>Sweden</td>\n",
              "      <td>49866.266</td>\n",
              "      <td>7.3</td>\n",
              "    </tr>\n",
              "    <tr>\n",
              "      <th>28</th>\n",
              "      <td>Iceland</td>\n",
              "      <td>50854.583</td>\n",
              "      <td>7.5</td>\n",
              "    </tr>\n",
              "    <tr>\n",
              "      <th>29</th>\n",
              "      <td>Faketopia</td>\n",
              "      <td>60000.000</td>\n",
              "      <td>0.0</td>\n",
              "    </tr>\n",
              "  </tbody>\n",
              "</table>\n",
              "</div>\n",
              "      <button class=\"colab-df-convert\" onclick=\"convertToInteractive('df-6cb3e5df-e468-4958-9018-2f01365e61e4')\"\n",
              "              title=\"Convert this dataframe to an interactive table.\"\n",
              "              style=\"display:none;\">\n",
              "        \n",
              "  <svg xmlns=\"http://www.w3.org/2000/svg\" height=\"24px\"viewBox=\"0 0 24 24\"\n",
              "       width=\"24px\">\n",
              "    <path d=\"M0 0h24v24H0V0z\" fill=\"none\"/>\n",
              "    <path d=\"M18.56 5.44l.94 2.06.94-2.06 2.06-.94-2.06-.94-.94-2.06-.94 2.06-2.06.94zm-11 1L8.5 8.5l.94-2.06 2.06-.94-2.06-.94L8.5 2.5l-.94 2.06-2.06.94zm10 10l.94 2.06.94-2.06 2.06-.94-2.06-.94-.94-2.06-.94 2.06-2.06.94z\"/><path d=\"M17.41 7.96l-1.37-1.37c-.4-.4-.92-.59-1.43-.59-.52 0-1.04.2-1.43.59L10.3 9.45l-7.72 7.72c-.78.78-.78 2.05 0 2.83L4 21.41c.39.39.9.59 1.41.59.51 0 1.02-.2 1.41-.59l7.78-7.78 2.81-2.81c.8-.78.8-2.07 0-2.86zM5.41 20L4 18.59l7.72-7.72 1.47 1.35L5.41 20z\"/>\n",
              "  </svg>\n",
              "      </button>\n",
              "      \n",
              "  <style>\n",
              "    .colab-df-container {\n",
              "      display:flex;\n",
              "      flex-wrap:wrap;\n",
              "      gap: 12px;\n",
              "    }\n",
              "\n",
              "    .colab-df-convert {\n",
              "      background-color: #E8F0FE;\n",
              "      border: none;\n",
              "      border-radius: 50%;\n",
              "      cursor: pointer;\n",
              "      display: none;\n",
              "      fill: #1967D2;\n",
              "      height: 32px;\n",
              "      padding: 0 0 0 0;\n",
              "      width: 32px;\n",
              "    }\n",
              "\n",
              "    .colab-df-convert:hover {\n",
              "      background-color: #E2EBFA;\n",
              "      box-shadow: 0px 1px 2px rgba(60, 64, 67, 0.3), 0px 1px 3px 1px rgba(60, 64, 67, 0.15);\n",
              "      fill: #174EA6;\n",
              "    }\n",
              "\n",
              "    [theme=dark] .colab-df-convert {\n",
              "      background-color: #3B4455;\n",
              "      fill: #D2E3FC;\n",
              "    }\n",
              "\n",
              "    [theme=dark] .colab-df-convert:hover {\n",
              "      background-color: #434B5C;\n",
              "      box-shadow: 0px 1px 3px 1px rgba(0, 0, 0, 0.15);\n",
              "      filter: drop-shadow(0px 1px 2px rgba(0, 0, 0, 0.3));\n",
              "      fill: #FFFFFF;\n",
              "    }\n",
              "  </style>\n",
              "\n",
              "      <script>\n",
              "        const buttonEl =\n",
              "          document.querySelector('#df-6cb3e5df-e468-4958-9018-2f01365e61e4 button.colab-df-convert');\n",
              "        buttonEl.style.display =\n",
              "          google.colab.kernel.accessAllowed ? 'block' : 'none';\n",
              "\n",
              "        async function convertToInteractive(key) {\n",
              "          const element = document.querySelector('#df-6cb3e5df-e468-4958-9018-2f01365e61e4');\n",
              "          const dataTable =\n",
              "            await google.colab.kernel.invokeFunction('convertToInteractive',\n",
              "                                                     [key], {});\n",
              "          if (!dataTable) return;\n",
              "\n",
              "          const docLinkHtml = 'Like what you see? Visit the ' +\n",
              "            '<a target=\"_blank\" href=https://colab.research.google.com/notebooks/data_table.ipynb>data table notebook</a>'\n",
              "            + ' to learn more about interactive tables.';\n",
              "          element.innerHTML = '';\n",
              "          dataTable['output_type'] = 'display_data';\n",
              "          await google.colab.output.renderOutput(dataTable, element);\n",
              "          const docLink = document.createElement('div');\n",
              "          docLink.innerHTML = docLinkHtml;\n",
              "          element.appendChild(docLink);\n",
              "        }\n",
              "      </script>\n",
              "    </div>\n",
              "  </div>\n",
              "  "
            ]
          },
          "metadata": {},
          "execution_count": 7
        }
      ],
      "source": [
        "# Import pandas and matplotlib\n",
        "import pandas as pd\n",
        "from matplotlib import pyplot as plt\n",
        "import matplotlib as mpl\n",
        "import math\n",
        "from sklearn.linear_model import LinearRegression\n",
        "from sklearn.metrics import mean_squared_error\n",
        "\n",
        "#from sklearn.neighbors import KNeighborsRegressor\n",
        " \n",
        "from sklearn.metrics import mean_squared_error\n",
        "\n",
        "from sklearn import neighbors\n",
        "import sklearn.neighbors\n",
        "import statistics\n",
        "\n",
        "df = pd.read_csv('https://raw.githubusercontent.com/CUNY-CISC3440-Fall2022/datasets/main/life_satisfaction.csv')\n",
        "df.loc[len(df.index)] = [\"Faketopia\", 60000, 0]\n",
        "df"
      ]
    },
    {
      "cell_type": "code",
      "execution_count": 8,
      "metadata": {
        "colab": {
          "base_uri": "https://localhost:8080/",
          "height": 279
        },
        "id": "Jp1sP0j2xNPc",
        "outputId": "5942c3ae-7942-446c-cc3f-a2712f51fff4"
      },
      "outputs": [
        {
          "output_type": "display_data",
          "data": {
            "text/plain": [
              "<Figure size 432x288 with 1 Axes>"
            ],
            "image/png": "[encoded data removed]"
          },
          "metadata": {
            "needs_background": "light"
          }
        }
      ],
      "source": [
        "\n",
        "\n",
        "plt.scatter(df['gdp_per_capita'], df['life_satisfaction'])\n",
        "\n",
        "plt.xlabel('GDP per capita')\n",
        "plt.ylabel('Life satisfaction')\n",
        "plt.show()\n"
      ]
    },
    {
      "cell_type": "code",
      "execution_count": 9,
      "metadata": {
        "colab": {
          "base_uri": "https://localhost:8080/"
        },
        "id": "LvzzjUdRNQel",
        "outputId": "7b1c0089-ab8a-4813-ac05-fcc69f98e118"
      },
      "outputs": [
        {
          "output_type": "stream",
          "name": "stdout",
          "text": [
            "[0.20061286273180823]\n"
          ]
        }
      ],
      "source": [
        "#model = sklearn.neighbors.KNeighborsRegressor(\n",
        "#n_neighbors=3)\n",
        "\n",
        "model = LinearRegression()\n",
        "\n",
        "Elist = []\n",
        "\n",
        "\n",
        "test = df.iloc[[0]]\n",
        "# Remove the 0th instance from the dataframe for the training set.\n",
        "train = df.drop(0)\n",
        "\n",
        "X = train[['gdp_per_capita']]\n",
        "y = train['life_satisfaction']\n",
        "\n",
        "# Train the model\n",
        "model.fit(X, y)\n",
        "\n",
        "# Try predicting the life satisfaction from the test set GDP\n",
        "y_pred = model.predict(test[['gdp_per_capita']])\n",
        "\n",
        "# life satisfaction value from the test set.\n",
        "error = mean_squared_error(test['life_satisfaction'], y_pred, squared=False)\n",
        "\n",
        "# Show the error value\n",
        "error\n",
        "Elist.append(error )\n",
        "print(Elist)"
      ]
    },
    {
      "cell_type": "code",
      "execution_count": 10,
      "metadata": {
        "id": "3YDcO2KZi8P4",
        "colab": {
          "base_uri": "https://localhost:8080/"
        },
        "outputId": "5c97cc70-228b-43f5-aa88-383c440066c9"
      },
      "outputs": [
        {
          "output_type": "stream",
          "name": "stdout",
          "text": [
            "[0.20061286273180823, 0.31010071499761604]\n"
          ]
        }
      ],
      "source": [
        "model = LinearRegression()\n",
        "\n",
        "\n",
        "\n",
        "test = df.iloc[[1]]\n",
        "\n",
        "train = df.drop(1)\n",
        "\n",
        "\n",
        "X = train[['gdp_per_capita']]\n",
        "y = train['life_satisfaction']\n",
        "\n",
        "\n",
        "model.fit(X, y)\n",
        "\n",
        "y_pred = model.predict(test[['gdp_per_capita']])\n",
        "\n",
        "\n",
        "error = mean_squared_error(test['life_satisfaction'], y_pred, squared=False)\n",
        "\n",
        "# Show the error value\n",
        "error\n",
        "Elist.append(error )\n",
        "print(Elist)"
      ]
    },
    {
      "cell_type": "code",
      "source": [
        "model = LinearRegression()\n",
        "\n",
        "test = df.iloc[[2]]\n",
        "\n",
        "train = df.drop(2)\n",
        "\n",
        "\n",
        "X = train[['gdp_per_capita']]\n",
        "y = train['life_satisfaction']\n",
        "\n",
        "\n",
        "model.fit(X, y)\n",
        "\n",
        "y_pred = model.predict(test[['gdp_per_capita']])\n",
        "\n",
        "\n",
        "error = mean_squared_error(test['life_satisfaction'], y_pred, squared=False)\n",
        "\n",
        "# Show the error value\n",
        "error\n",
        "Elist.append(error )\n",
        "print(Elist)"
      ],
      "metadata": {
        "colab": {
          "base_uri": "https://localhost:8080/"
        },
        "id": "gpOWP3ciNY-7",
        "outputId": "103fc9ff-5dea-48d1-8ce3-b5bb4b31d83c"
      },
      "execution_count": 11,
      "outputs": [
        {
          "output_type": "stream",
          "name": "stdout",
          "text": [
            "[0.20061286273180823, 0.31010071499761604, 0.46356700314145804]\n"
          ]
        }
      ]
    },
    {
      "cell_type": "code",
      "source": [
        "model = LinearRegression()\n",
        "\n",
        "test = df.iloc[[3]]\n",
        "\n",
        "train = df.drop(3)\n",
        "\n",
        "\n",
        "X = train[['gdp_per_capita']]\n",
        "y = train['life_satisfaction']\n",
        "\n",
        "\n",
        "model.fit(X, y)\n",
        "\n",
        "y_pred = model.predict(test[['gdp_per_capita']])\n",
        "\n",
        "\n",
        "error = mean_squared_error(test['life_satisfaction'], y_pred, squared=False)\n",
        "\n",
        "# Show the error value\n",
        "error\n",
        "Elist.append(error )\n",
        "print(Elist)"
      ],
      "metadata": {
        "colab": {
          "base_uri": "https://localhost:8080/"
        },
        "id": "-w0LSGKDN28C",
        "outputId": "7fb58364-2ea7-448e-e85d-5a2c6075568b"
      },
      "execution_count": 12,
      "outputs": [
        {
          "output_type": "stream",
          "name": "stdout",
          "text": [
            "[0.20061286273180823, 0.31010071499761604, 0.46356700314145804, 0.793652217594345]\n"
          ]
        }
      ]
    },
    {
      "cell_type": "code",
      "source": [
        "model = LinearRegression()\n",
        "\n",
        "test = df.iloc[[4]]\n",
        "\n",
        "train = df.drop(4)\n",
        "\n",
        "\n",
        "X = train[['gdp_per_capita']]\n",
        "y = train['life_satisfaction']\n",
        "\n",
        "\n",
        "model.fit(X, y)\n",
        "\n",
        "y_pred = model.predict(test[['gdp_per_capita']])\n",
        "\n",
        "\n",
        "error = mean_squared_error(test['life_satisfaction'], y_pred, squared=False)\n",
        "\n",
        "# Show the error value\n",
        "error\n",
        "Elist.append(error )\n",
        "print(Elist)"
      ],
      "metadata": {
        "colab": {
          "base_uri": "https://localhost:8080/"
        },
        "id": "jcsnYb8JN_8x",
        "outputId": "8196c24f-4858-4f60-f295-575e53c931aa"
      },
      "execution_count": 13,
      "outputs": [
        {
          "output_type": "stream",
          "name": "stdout",
          "text": [
            "[0.20061286273180823, 0.31010071499761604, 0.46356700314145804, 0.793652217594345, 0.1349861347274084]\n"
          ]
        }
      ]
    },
    {
      "cell_type": "code",
      "source": [
        "model = LinearRegression()\n",
        "\n",
        "test = df.iloc[[5]]\n",
        "\n",
        "train = df.drop(5)\n",
        "\n",
        "\n",
        "X = train[['gdp_per_capita']]\n",
        "y = train['life_satisfaction']\n",
        "\n",
        "\n",
        "model.fit(X, y)\n",
        "\n",
        "y_pred = model.predict(test[['gdp_per_capita']])\n",
        "\n",
        "\n",
        "error = mean_squared_error(test['life_satisfaction'], y_pred, squared=False)\n",
        "\n",
        "# Show the error value\n",
        "error\n",
        "Elist.append(error )\n",
        "print(Elist)"
      ],
      "metadata": {
        "colab": {
          "base_uri": "https://localhost:8080/"
        },
        "id": "EFLpRj2dOCNZ",
        "outputId": "3cf5b0d8-42f7-44ab-9f08-e5d110fd97be"
      },
      "execution_count": 14,
      "outputs": [
        {
          "output_type": "stream",
          "name": "stdout",
          "text": [
            "[0.20061286273180823, 0.31010071499761604, 0.46356700314145804, 0.793652217594345, 0.1349861347274084, 0.35107494129077477]\n"
          ]
        }
      ]
    },
    {
      "cell_type": "code",
      "source": [
        "model = LinearRegression()\n",
        "\n",
        "test = df.iloc[[6]]\n",
        "\n",
        "train = df.drop(6)\n",
        "\n",
        "\n",
        "X = train[['gdp_per_capita']]\n",
        "y = train['life_satisfaction']\n",
        "\n",
        "\n",
        "model.fit(X, y)\n",
        "\n",
        "y_pred = model.predict(test[['gdp_per_capita']])\n",
        "\n",
        "\n",
        "error = mean_squared_error(test['life_satisfaction'], y_pred, squared=False)\n",
        "\n",
        "# Show the error value\n",
        "error\n",
        "Elist.append(error )\n",
        "print(Elist)"
      ],
      "metadata": {
        "colab": {
          "base_uri": "https://localhost:8080/"
        },
        "id": "cx0u-0VPOEEZ",
        "outputId": "cb69da56-bfa8-4d1b-bfc0-fb5e6414714e"
      },
      "execution_count": 15,
      "outputs": [
        {
          "output_type": "stream",
          "name": "stdout",
          "text": [
            "[0.20061286273180823, 0.31010071499761604, 0.46356700314145804, 0.793652217594345, 0.1349861347274084, 0.35107494129077477, 0.3510030620974689]\n"
          ]
        }
      ]
    },
    {
      "cell_type": "code",
      "source": [
        "model = LinearRegression()\n",
        "\n",
        "test = df.iloc[[7]]\n",
        "\n",
        "train = df.drop(7)\n",
        "\n",
        "\n",
        "X = train[['gdp_per_capita']]\n",
        "y = train['life_satisfaction']\n",
        "\n",
        "\n",
        "model.fit(X, y)\n",
        "\n",
        "y_pred = model.predict(test[['gdp_per_capita']])\n",
        "\n",
        "\n",
        "error = mean_squared_error(test['life_satisfaction'], y_pred, squared=False)\n",
        "\n",
        "# Show the error value\n",
        "error\n",
        "Elist.append(error )\n",
        "print(Elist)"
      ],
      "metadata": {
        "colab": {
          "base_uri": "https://localhost:8080/"
        },
        "id": "uHeO_xctOF9Q",
        "outputId": "eba81e4c-110a-44cb-91b4-df046a1f1e7e"
      },
      "execution_count": 16,
      "outputs": [
        {
          "output_type": "stream",
          "name": "stdout",
          "text": [
            "[0.20061286273180823, 0.31010071499761604, 0.46356700314145804, 0.793652217594345, 0.1349861347274084, 0.35107494129077477, 0.3510030620974689, 0.03205290928951854]\n"
          ]
        }
      ]
    },
    {
      "cell_type": "code",
      "source": [
        "model = LinearRegression()\n",
        "\n",
        "test = df.iloc[[8]]\n",
        "\n",
        "train = df.drop(8)\n",
        "\n",
        "\n",
        "X = train[['gdp_per_capita']]\n",
        "y = train['life_satisfaction']\n",
        "\n",
        "\n",
        "model.fit(X, y)\n",
        "\n",
        "y_pred = model.predict(test[['gdp_per_capita']])\n",
        "\n",
        "\n",
        "error = mean_squared_error(test['life_satisfaction'], y_pred, squared=False)\n",
        "\n",
        "# Show the error value\n",
        "error\n",
        "Elist.append(error )\n",
        "print(Elist)"
      ],
      "metadata": {
        "colab": {
          "base_uri": "https://localhost:8080/"
        },
        "id": "8Iui9wIwOIJH",
        "outputId": "3c7c1bdb-f6ca-41cc-b3f5-e46907db6c3a"
      },
      "execution_count": 17,
      "outputs": [
        {
          "output_type": "stream",
          "name": "stdout",
          "text": [
            "[0.20061286273180823, 0.31010071499761604, 0.46356700314145804, 0.793652217594345, 0.1349861347274084, 0.35107494129077477, 0.3510030620974689, 0.03205290928951854, 0.4949656577249595]\n"
          ]
        }
      ]
    },
    {
      "cell_type": "code",
      "source": [
        "model = LinearRegression()\n",
        "\n",
        "test = df.iloc[[9]]\n",
        "\n",
        "train = df.drop(9)\n",
        "\n",
        "\n",
        "X = train[['gdp_per_capita']]\n",
        "y = train['life_satisfaction']\n",
        "\n",
        "\n",
        "model.fit(X, y)\n",
        "\n",
        "y_pred = model.predict(test[['gdp_per_capita']])\n",
        "\n",
        "\n",
        "error = mean_squared_error(test['life_satisfaction'], y_pred, squared=False)\n",
        "\n",
        "# Show the error value\n",
        "error\n",
        "Elist.append(error )\n",
        "print(Elist)"
      ],
      "metadata": {
        "colab": {
          "base_uri": "https://localhost:8080/"
        },
        "id": "m-mmqgrvOKg4",
        "outputId": "27fffba1-0d8a-4b34-9833-7149e21c4502"
      },
      "execution_count": 18,
      "outputs": [
        {
          "output_type": "stream",
          "name": "stdout",
          "text": [
            "[0.20061286273180823, 0.31010071499761604, 0.46356700314145804, 0.793652217594345, 0.1349861347274084, 0.35107494129077477, 0.3510030620974689, 0.03205290928951854, 0.4949656577249595, 0.5628243819525061]\n"
          ]
        }
      ]
    },
    {
      "cell_type": "code",
      "source": [
        "model = LinearRegression()\n",
        "\n",
        "test = df.iloc[[10]]\n",
        "\n",
        "train = df.drop(10)\n",
        "\n",
        "\n",
        "X = train[['gdp_per_capita']]\n",
        "y = train['life_satisfaction']\n",
        "\n",
        "\n",
        "model.fit(X, y)\n",
        "\n",
        "y_pred = model.predict(test[['gdp_per_capita']])\n",
        "\n",
        "\n",
        "error = mean_squared_error(test['life_satisfaction'], y_pred, squared=False)\n",
        "\n",
        "# Show the error value\n",
        "error\n",
        "Elist.append(error )\n",
        "print(Elist)"
      ],
      "metadata": {
        "colab": {
          "base_uri": "https://localhost:8080/"
        },
        "id": "nijb5KHqOM-y",
        "outputId": "1bd1648e-946c-4c03-9c0e-a1c8a7615c57"
      },
      "execution_count": 19,
      "outputs": [
        {
          "output_type": "stream",
          "name": "stdout",
          "text": [
            "[0.20061286273180823, 0.31010071499761604, 0.46356700314145804, 0.793652217594345, 0.1349861347274084, 0.35107494129077477, 0.3510030620974689, 0.03205290928951854, 0.4949656577249595, 0.5628243819525061, 0.8788507893368553]\n"
          ]
        }
      ]
    },
    {
      "cell_type": "code",
      "source": [
        "model = LinearRegression()\n",
        "\n",
        "test = df.iloc[[11]]\n",
        "\n",
        "train = df.drop(11)\n",
        "\n",
        "\n",
        "X = train[['gdp_per_capita']]\n",
        "y = train['life_satisfaction']\n",
        "\n",
        "\n",
        "model.fit(X, y)\n",
        "\n",
        "y_pred = model.predict(test[['gdp_per_capita']])\n",
        "\n",
        "\n",
        "error = mean_squared_error(test['life_satisfaction'], y_pred, squared=False)\n",
        "\n",
        "# Show the error value\n",
        "error\n",
        "Elist.append(error )\n",
        "print(Elist)"
      ],
      "metadata": {
        "colab": {
          "base_uri": "https://localhost:8080/"
        },
        "id": "7ibpmzfKOOqL",
        "outputId": "35e1ff2f-d6d1-4dd0-d3a8-d0238785dfad"
      },
      "execution_count": 20,
      "outputs": [
        {
          "output_type": "stream",
          "name": "stdout",
          "text": [
            "[0.20061286273180823, 0.31010071499761604, 0.46356700314145804, 0.793652217594345, 0.1349861347274084, 0.35107494129077477, 0.3510030620974689, 0.03205290928951854, 0.4949656577249595, 0.5628243819525061, 0.8788507893368553, 0.8774005353960401]\n"
          ]
        }
      ]
    },
    {
      "cell_type": "code",
      "source": [
        "model = LinearRegression()\n",
        "\n",
        "test = df.iloc[[12]]\n",
        "\n",
        "train = df.drop(12)\n",
        "\n",
        "\n",
        "X = train[['gdp_per_capita']]\n",
        "y = train['life_satisfaction']\n",
        "\n",
        "\n",
        "model.fit(X, y)\n",
        "\n",
        "y_pred = model.predict(test[['gdp_per_capita']])\n",
        "\n",
        "\n",
        "error = mean_squared_error(test['life_satisfaction'], y_pred, squared=False)\n",
        "\n",
        "# Show the error value\n",
        "error\n",
        "Elist.append(error )\n",
        "print(Elist)"
      ],
      "metadata": {
        "colab": {
          "base_uri": "https://localhost:8080/"
        },
        "id": "lbNcnTykOQFo",
        "outputId": "58168205-3819-4eee-a86d-c2178e3e1dca"
      },
      "execution_count": 21,
      "outputs": [
        {
          "output_type": "stream",
          "name": "stdout",
          "text": [
            "[0.20061286273180823, 0.31010071499761604, 0.46356700314145804, 0.793652217594345, 0.1349861347274084, 0.35107494129077477, 0.3510030620974689, 0.03205290928951854, 0.4949656577249595, 0.5628243819525061, 0.8788507893368553, 0.8774005353960401, 0.3528853785211652]\n"
          ]
        }
      ]
    },
    {
      "cell_type": "code",
      "source": [
        "model = LinearRegression()\n",
        "\n",
        "test = df.iloc[[13]]\n",
        "\n",
        "train = df.drop(13)\n",
        "\n",
        "\n",
        "X = train[['gdp_per_capita']]\n",
        "y = train['life_satisfaction']\n",
        "\n",
        "\n",
        "model.fit(X, y)\n",
        "\n",
        "y_pred = model.predict(test[['gdp_per_capita']])\n",
        "\n",
        "\n",
        "error = mean_squared_error(test['life_satisfaction'], y_pred, squared=False)\n",
        "\n",
        "# Show the error value\n",
        "error\n",
        "Elist.append(error )\n",
        "print(Elist)"
      ],
      "metadata": {
        "colab": {
          "base_uri": "https://localhost:8080/"
        },
        "id": "k6Xqrk57OSKZ",
        "outputId": "720d303e-005d-45a1-cc1b-97886a00a4da"
      },
      "execution_count": 22,
      "outputs": [
        {
          "output_type": "stream",
          "name": "stdout",
          "text": [
            "[0.20061286273180823, 0.31010071499761604, 0.46356700314145804, 0.793652217594345, 0.1349861347274084, 0.35107494129077477, 0.3510030620974689, 0.03205290928951854, 0.4949656577249595, 0.5628243819525061, 0.8788507893368553, 0.8774005353960401, 0.3528853785211652, 0.056707828518772985]\n"
          ]
        }
      ]
    },
    {
      "cell_type": "code",
      "source": [
        "model = LinearRegression()\n",
        "\n",
        "test = df.iloc[[14]]\n",
        "\n",
        "train = df.drop(14)\n",
        "\n",
        "\n",
        "X = train[['gdp_per_capita']]\n",
        "y = train['life_satisfaction']\n",
        "\n",
        "\n",
        "model.fit(X, y)\n",
        "\n",
        "y_pred = model.predict(test[['gdp_per_capita']])\n",
        "\n",
        "\n",
        "error = mean_squared_error(test['life_satisfaction'], y_pred, squared=False)\n",
        "\n",
        "# Show the error value\n",
        "error\n",
        "Elist.append(error )\n",
        "print(Elist)"
      ],
      "metadata": {
        "colab": {
          "base_uri": "https://localhost:8080/"
        },
        "id": "NYR4eBeMOUfS",
        "outputId": "35b0db99-60bb-477c-88c4-5db2fa2cc7f6"
      },
      "execution_count": 23,
      "outputs": [
        {
          "output_type": "stream",
          "name": "stdout",
          "text": [
            "[0.20061286273180823, 0.31010071499761604, 0.46356700314145804, 0.793652217594345, 0.1349861347274084, 0.35107494129077477, 0.3510030620974689, 0.03205290928951854, 0.4949656577249595, 0.5628243819525061, 0.8788507893368553, 0.8774005353960401, 0.3528853785211652, 0.056707828518772985, 0.35945993129387865]\n"
          ]
        }
      ]
    },
    {
      "cell_type": "code",
      "source": [
        "model = LinearRegression()\n",
        "\n",
        "test = df.iloc[[15]]\n",
        "\n",
        "train = df.drop(15)\n",
        "\n",
        "\n",
        "X = train[['gdp_per_capita']]\n",
        "y = train['life_satisfaction']\n",
        "\n",
        "\n",
        "model.fit(X, y)\n",
        "\n",
        "y_pred = model.predict(test[['gdp_per_capita']])\n",
        "\n",
        "\n",
        "error = mean_squared_error(test['life_satisfaction'], y_pred, squared=False)\n",
        "\n",
        "# Show the error value\n",
        "error\n",
        "Elist.append(error )\n",
        "print(Elist)"
      ],
      "metadata": {
        "colab": {
          "base_uri": "https://localhost:8080/"
        },
        "id": "yYWhJTuPOWrt",
        "outputId": "2a6b7975-9ab7-41b1-9a7b-3ce0929dbee3"
      },
      "execution_count": 24,
      "outputs": [
        {
          "output_type": "stream",
          "name": "stdout",
          "text": [
            "[0.20061286273180823, 0.31010071499761604, 0.46356700314145804, 0.793652217594345, 0.1349861347274084, 0.35107494129077477, 0.3510030620974689, 0.03205290928951854, 0.4949656577249595, 0.5628243819525061, 0.8788507893368553, 0.8774005353960401, 0.3528853785211652, 0.056707828518772985, 0.35945993129387865, 0.2600996026992153]\n"
          ]
        }
      ]
    },
    {
      "cell_type": "code",
      "source": [
        "model = LinearRegression()\n",
        "\n",
        "test = df.iloc[[16]]\n",
        "\n",
        "train = df.drop(16)\n",
        "\n",
        "\n",
        "X = train[['gdp_per_capita']]\n",
        "y = train['life_satisfaction']\n",
        "\n",
        "\n",
        "model.fit(X, y)\n",
        "\n",
        "y_pred = model.predict(test[['gdp_per_capita']])\n",
        "\n",
        "\n",
        "error = mean_squared_error(test['life_satisfaction'], y_pred, squared=False)\n",
        "\n",
        "# Show the error value\n",
        "error\n",
        "Elist.append(error )\n",
        "print(Elist)"
      ],
      "metadata": {
        "colab": {
          "base_uri": "https://localhost:8080/"
        },
        "id": "Wue5V_GKOZAq",
        "outputId": "6876adcd-bc75-4948-d60b-ae43df9acc24"
      },
      "execution_count": 25,
      "outputs": [
        {
          "output_type": "stream",
          "name": "stdout",
          "text": [
            "[0.20061286273180823, 0.31010071499761604, 0.46356700314145804, 0.793652217594345, 0.1349861347274084, 0.35107494129077477, 0.3510030620974689, 0.03205290928951854, 0.4949656577249595, 0.5628243819525061, 0.8788507893368553, 0.8774005353960401, 0.3528853785211652, 0.056707828518772985, 0.35945993129387865, 0.2600996026992153, 0.36840237391238073]\n"
          ]
        }
      ]
    },
    {
      "cell_type": "code",
      "source": [
        "model = LinearRegression()\n",
        "\n",
        "test = df.iloc[[17]]\n",
        "\n",
        "train = df.drop(17)\n",
        "\n",
        "\n",
        "X = train[['gdp_per_capita']]\n",
        "y = train['life_satisfaction']\n",
        "\n",
        "\n",
        "model.fit(X, y)\n",
        "\n",
        "y_pred = model.predict(test[['gdp_per_capita']])\n",
        "\n",
        "\n",
        "error = mean_squared_error(test['life_satisfaction'], y_pred, squared=False)\n",
        "\n",
        "# Show the error value\n",
        "error\n",
        "Elist.append(error )\n",
        "print(Elist)"
      ],
      "metadata": {
        "colab": {
          "base_uri": "https://localhost:8080/"
        },
        "id": "Fc14aEIDOcQV",
        "outputId": "cc1c1ee4-5f56-4a98-fbb4-324c3df097c1"
      },
      "execution_count": 26,
      "outputs": [
        {
          "output_type": "stream",
          "name": "stdout",
          "text": [
            "[0.20061286273180823, 0.31010071499761604, 0.46356700314145804, 0.793652217594345, 0.1349861347274084, 0.35107494129077477, 0.3510030620974689, 0.03205290928951854, 0.4949656577249595, 0.5628243819525061, 0.8788507893368553, 0.8774005353960401, 0.3528853785211652, 0.056707828518772985, 0.35945993129387865, 0.2600996026992153, 0.36840237391238073, 0.9790749804250067]\n"
          ]
        }
      ]
    },
    {
      "cell_type": "code",
      "source": [
        "model = LinearRegression()\n",
        "\n",
        "test = df.iloc[[18]]\n",
        "\n",
        "train = df.drop(18)\n",
        "\n",
        "\n",
        "X = train[['gdp_per_capita']]\n",
        "y = train['life_satisfaction']\n",
        "\n",
        "\n",
        "model.fit(X, y)\n",
        "\n",
        "y_pred = model.predict(test[['gdp_per_capita']])\n",
        "\n",
        "\n",
        "error = mean_squared_error(test['life_satisfaction'], y_pred, squared=False)\n",
        "\n",
        "# Show the error value\n",
        "error\n",
        "Elist.append(error )\n",
        "print(Elist)"
      ],
      "metadata": {
        "colab": {
          "base_uri": "https://localhost:8080/"
        },
        "id": "OEOO-9deOea5",
        "outputId": "a8151da1-2794-4d79-c6a8-35e890ff31a4"
      },
      "execution_count": 27,
      "outputs": [
        {
          "output_type": "stream",
          "name": "stdout",
          "text": [
            "[0.20061286273180823, 0.31010071499761604, 0.46356700314145804, 0.793652217594345, 0.1349861347274084, 0.35107494129077477, 0.3510030620974689, 0.03205290928951854, 0.4949656577249595, 0.5628243819525061, 0.8788507893368553, 0.8774005353960401, 0.3528853785211652, 0.056707828518772985, 0.35945993129387865, 0.2600996026992153, 0.36840237391238073, 0.9790749804250067, 1.0848287356389221]\n"
          ]
        }
      ]
    },
    {
      "cell_type": "code",
      "source": [
        "model = LinearRegression()\n",
        "\n",
        "test = df.iloc[[19]]\n",
        "\n",
        "train = df.drop(19)\n",
        "\n",
        "\n",
        "X = train[['gdp_per_capita']]\n",
        "y = train['life_satisfaction']\n",
        "\n",
        "\n",
        "model.fit(X, y)\n",
        "\n",
        "y_pred = model.predict(test[['gdp_per_capita']])\n",
        "\n",
        "\n",
        "error = mean_squared_error(test['life_satisfaction'], y_pred, squared=False)\n",
        "\n",
        "# Show the error value\n",
        "error\n",
        "Elist.append(error )\n",
        "print(Elist)"
      ],
      "metadata": {
        "colab": {
          "base_uri": "https://localhost:8080/"
        },
        "id": "_CM5NA6xOfr0",
        "outputId": "f7030846-ac9c-4de7-aacb-2bf0e5c1b66d"
      },
      "execution_count": 28,
      "outputs": [
        {
          "output_type": "stream",
          "name": "stdout",
          "text": [
            "[0.20061286273180823, 0.31010071499761604, 0.46356700314145804, 0.793652217594345, 0.1349861347274084, 0.35107494129077477, 0.3510030620974689, 0.03205290928951854, 0.4949656577249595, 0.5628243819525061, 0.8788507893368553, 0.8774005353960401, 0.3528853785211652, 0.056707828518772985, 0.35945993129387865, 0.2600996026992153, 0.36840237391238073, 0.9790749804250067, 1.0848287356389221, 0.24784136083722785]\n"
          ]
        }
      ]
    },
    {
      "cell_type": "code",
      "source": [
        "model = LinearRegression()\n",
        "\n",
        "test = df.iloc[[20]]\n",
        "\n",
        "train = df.drop(20)\n",
        "\n",
        "\n",
        "X = train[['gdp_per_capita']]\n",
        "y = train['life_satisfaction']\n",
        "\n",
        "\n",
        "model.fit(X, y)\n",
        "\n",
        "y_pred = model.predict(test[['gdp_per_capita']])\n",
        "\n",
        "\n",
        "error = mean_squared_error(test['life_satisfaction'], y_pred, squared=False)\n",
        "\n",
        "# Show the error value\n",
        "error\n",
        "Elist.append(error )\n",
        "print(Elist)"
      ],
      "metadata": {
        "colab": {
          "base_uri": "https://localhost:8080/"
        },
        "id": "6M8DJLQ4OiX4",
        "outputId": "caca431d-a687-49c0-dfe8-790e2f89c821"
      },
      "execution_count": 29,
      "outputs": [
        {
          "output_type": "stream",
          "name": "stdout",
          "text": [
            "[0.20061286273180823, 0.31010071499761604, 0.46356700314145804, 0.793652217594345, 0.1349861347274084, 0.35107494129077477, 0.3510030620974689, 0.03205290928951854, 0.4949656577249595, 0.5628243819525061, 0.8788507893368553, 0.8774005353960401, 0.3528853785211652, 0.056707828518772985, 0.35945993129387865, 0.2600996026992153, 0.36840237391238073, 0.9790749804250067, 1.0848287356389221, 0.24784136083722785, 0.6681327157202865]\n"
          ]
        }
      ]
    },
    {
      "cell_type": "code",
      "source": [
        "model = LinearRegression()\n",
        "\n",
        "test = df.iloc[[21]]\n",
        "\n",
        "train = df.drop(21)\n",
        "\n",
        "\n",
        "X = train[['gdp_per_capita']]\n",
        "y = train['life_satisfaction']\n",
        "\n",
        "\n",
        "model.fit(X, y)\n",
        "\n",
        "y_pred = model.predict(test[['gdp_per_capita']])\n",
        "\n",
        "\n",
        "error = mean_squared_error(test['life_satisfaction'], y_pred, squared=False)\n",
        "\n",
        "# Show the error value\n",
        "error\n",
        "Elist.append(error )\n",
        "print(Elist)"
      ],
      "metadata": {
        "colab": {
          "base_uri": "https://localhost:8080/"
        },
        "id": "yvzxYtp7OlHa",
        "outputId": "0ad5f39b-80ce-4e9a-c2e1-e011f9de226f"
      },
      "execution_count": 30,
      "outputs": [
        {
          "output_type": "stream",
          "name": "stdout",
          "text": [
            "[0.20061286273180823, 0.31010071499761604, 0.46356700314145804, 0.793652217594345, 0.1349861347274084, 0.35107494129077477, 0.3510030620974689, 0.03205290928951854, 0.4949656577249595, 0.5628243819525061, 0.8788507893368553, 0.8774005353960401, 0.3528853785211652, 0.056707828518772985, 0.35945993129387865, 0.2600996026992153, 0.36840237391238073, 0.9790749804250067, 1.0848287356389221, 0.24784136083722785, 0.6681327157202865, 0.774886934500242]\n"
          ]
        }
      ]
    },
    {
      "cell_type": "code",
      "source": [
        "model = LinearRegression()\n",
        "\n",
        "#test = df.iloc[[22]]\n",
        "\n",
        "train = df.drop(22)\n",
        "\n",
        "\n",
        "X = train[['gdp_per_capita']]\n",
        "y = train['life_satisfaction']\n",
        "\n",
        "\n",
        "model.fit(X, y)\n",
        "\n",
        "y_pred = model.predict(test[['gdp_per_capita']])\n",
        "\n",
        "\n",
        "error = mean_squared_error(test['life_satisfaction'], y_pred, squared=False)\n",
        "\n",
        "# Show the error value\n",
        "error\n",
        "Elist.append(error )\n",
        "print(Elist)"
      ],
      "metadata": {
        "colab": {
          "base_uri": "https://localhost:8080/"
        },
        "id": "whdyBUijOm2K",
        "outputId": "e6e314e3-32bc-43a2-8873-814438f4d99d"
      },
      "execution_count": 31,
      "outputs": [
        {
          "output_type": "stream",
          "name": "stdout",
          "text": [
            "[0.20061286273180823, 0.31010071499761604, 0.46356700314145804, 0.793652217594345, 0.1349861347274084, 0.35107494129077477, 0.3510030620974689, 0.03205290928951854, 0.4949656577249595, 0.5628243819525061, 0.8788507893368553, 0.8774005353960401, 0.3528853785211652, 0.056707828518772985, 0.35945993129387865, 0.2600996026992153, 0.36840237391238073, 0.9790749804250067, 1.0848287356389221, 0.24784136083722785, 0.6681327157202865, 0.774886934500242, 0.8132484456157947]\n"
          ]
        }
      ]
    },
    {
      "cell_type": "code",
      "source": [
        "model = LinearRegression()\n",
        "\n",
        "#test = df.iloc[[23]]\n",
        "\n",
        "train = df.drop(23)\n",
        "\n",
        "\n",
        "X = train[['gdp_per_capita']]\n",
        "y = train['life_satisfaction']\n",
        "\n",
        "\n",
        "model.fit(X, y)\n",
        "\n",
        "y_pred = model.predict(test[['gdp_per_capita']])\n",
        "\n",
        "\n",
        "error = mean_squared_error(test['life_satisfaction'], y_pred, squared=False)\n",
        "\n",
        "# Show the error value\n",
        "error\n",
        "Elist.append(error )\n",
        "print(Elist)"
      ],
      "metadata": {
        "colab": {
          "base_uri": "https://localhost:8080/"
        },
        "id": "sfC9_84lOo3D",
        "outputId": "28104c13-38fc-462e-e2d6-468111a754a6"
      },
      "execution_count": 32,
      "outputs": [
        {
          "output_type": "stream",
          "name": "stdout",
          "text": [
            "[0.20061286273180823, 0.31010071499761604, 0.46356700314145804, 0.793652217594345, 0.1349861347274084, 0.35107494129077477, 0.3510030620974689, 0.03205290928951854, 0.4949656577249595, 0.5628243819525061, 0.8788507893368553, 0.8774005353960401, 0.3528853785211652, 0.056707828518772985, 0.35945993129387865, 0.2600996026992153, 0.36840237391238073, 0.9790749804250067, 1.0848287356389221, 0.24784136083722785, 0.6681327157202865, 0.774886934500242, 0.8132484456157947, 0.804340791661045]\n"
          ]
        }
      ]
    },
    {
      "cell_type": "code",
      "source": [
        "model = LinearRegression()\n",
        "\n",
        "test = df.iloc[[24]]\n",
        "\n",
        "train = df.drop(24)\n",
        "\n",
        "\n",
        "X = train[['gdp_per_capita']]\n",
        "y = train['life_satisfaction']\n",
        "\n",
        "\n",
        "model.fit(X, y)\n",
        "\n",
        "y_pred = model.predict(test[['gdp_per_capita']])\n",
        "\n",
        "\n",
        "error = mean_squared_error(test['life_satisfaction'], y_pred, squared=False)\n",
        "\n",
        "# Show the error value\n",
        "error\n",
        "Elist.append(error)"
      ],
      "metadata": {
        "id": "xL8TF-aGOqvS"
      },
      "execution_count": 33,
      "outputs": []
    },
    {
      "cell_type": "code",
      "source": [
        "model = LinearRegression()\n",
        "\n",
        "test = df.iloc[[25]]\n",
        "\n",
        "train = df.drop(25)\n",
        "\n",
        "\n",
        "X = train[['gdp_per_capita']]\n",
        "y = train['life_satisfaction']\n",
        "\n",
        "\n",
        "model.fit(X, y)\n",
        "\n",
        "y_pred = model.predict(test[['gdp_per_capita']])\n",
        "\n",
        "\n",
        "error = mean_squared_error(test['life_satisfaction'], y_pred, squared=False)\n",
        "\n",
        "# Show the error value\n",
        "error\n",
        "Elist.append(error )\n",
        "print(Elist)"
      ],
      "metadata": {
        "colab": {
          "base_uri": "https://localhost:8080/"
        },
        "id": "4f5us0FYOvrb",
        "outputId": "4a14d137-5c3a-4e34-b47d-e145cabc62f5"
      },
      "execution_count": 34,
      "outputs": [
        {
          "output_type": "stream",
          "name": "stdout",
          "text": [
            "[0.20061286273180823, 0.31010071499761604, 0.46356700314145804, 0.793652217594345, 0.1349861347274084, 0.35107494129077477, 0.3510030620974689, 0.03205290928951854, 0.4949656577249595, 0.5628243819525061, 0.8788507893368553, 0.8774005353960401, 0.3528853785211652, 0.056707828518772985, 0.35945993129387865, 0.2600996026992153, 0.36840237391238073, 0.9790749804250067, 1.0848287356389221, 0.24784136083722785, 0.6681327157202865, 0.774886934500242, 0.8132484456157947, 0.804340791661045, 1.2082169584584541, 0.8870869873713723]\n"
          ]
        }
      ]
    },
    {
      "cell_type": "code",
      "source": [
        "model = LinearRegression()\n",
        "\n",
        "#test = df.iloc[[26]]\n",
        "\n",
        "train = df.drop(26)\n",
        "\n",
        "\n",
        "X = train[['gdp_per_capita']]\n",
        "y = train['life_satisfaction']\n",
        "\n",
        "\n",
        "model.fit(X, y)\n",
        "\n",
        "y_pred = model.predict(test[['gdp_per_capita']])\n",
        "\n",
        "\n",
        "error = mean_squared_error(test['life_satisfaction'], y_pred, squared=False)\n",
        "\n",
        "# Show the error value\n",
        "error\n",
        "Elist.append(error )\n",
        "print(Elist)"
      ],
      "metadata": {
        "colab": {
          "base_uri": "https://localhost:8080/"
        },
        "id": "E9oO2WLHOyCh",
        "outputId": "14a4cc2e-e651-4f61-a239-2f386730c34c"
      },
      "execution_count": 35,
      "outputs": [
        {
          "output_type": "stream",
          "name": "stdout",
          "text": [
            "[0.20061286273180823, 0.31010071499761604, 0.46356700314145804, 0.793652217594345, 0.1349861347274084, 0.35107494129077477, 0.3510030620974689, 0.03205290928951854, 0.4949656577249595, 0.5628243819525061, 0.8788507893368553, 0.8774005353960401, 0.3528853785211652, 0.056707828518772985, 0.35945993129387865, 0.2600996026992153, 0.36840237391238073, 0.9790749804250067, 1.0848287356389221, 0.24784136083722785, 0.6681327157202865, 0.774886934500242, 0.8132484456157947, 0.804340791661045, 1.2082169584584541, 0.8870869873713723, 0.8655022086293727]\n"
          ]
        }
      ]
    },
    {
      "cell_type": "code",
      "source": [
        "model = LinearRegression()\n",
        "\n",
        "test = df.iloc[[27]]\n",
        "\n",
        "train = df.drop(27)\n",
        "\n",
        "\n",
        "X = train[['gdp_per_capita']]\n",
        "y = train['life_satisfaction']\n",
        "\n",
        "\n",
        "model.fit(X, y)\n",
        "\n",
        "y_pred = model.predict(test[['gdp_per_capita']])\n",
        "\n",
        "\n",
        "error = mean_squared_error(test['life_satisfaction'], y_pred, squared=False)\n",
        "\n",
        "# Show the error value\n",
        "error\n",
        "Elist.append(error )\n",
        "print(Elist)"
      ],
      "metadata": {
        "colab": {
          "base_uri": "https://localhost:8080/"
        },
        "id": "M_LPF2MMO0lB",
        "outputId": "29959f43-6ebc-47c6-bf03-33760c3345eb"
      },
      "execution_count": 36,
      "outputs": [
        {
          "output_type": "stream",
          "name": "stdout",
          "text": [
            "[0.20061286273180823, 0.31010071499761604, 0.46356700314145804, 0.793652217594345, 0.1349861347274084, 0.35107494129077477, 0.3510030620974689, 0.03205290928951854, 0.4949656577249595, 0.5628243819525061, 0.8788507893368553, 0.8774005353960401, 0.3528853785211652, 0.056707828518772985, 0.35945993129387865, 0.2600996026992153, 0.36840237391238073, 0.9790749804250067, 1.0848287356389221, 0.24784136083722785, 0.6681327157202865, 0.774886934500242, 0.8132484456157947, 0.804340791661045, 1.2082169584584541, 0.8870869873713723, 0.8655022086293727, 1.13289478020896]\n"
          ]
        }
      ]
    },
    {
      "cell_type": "code",
      "source": [
        "model = LinearRegression()\n",
        "\n",
        "test = df.iloc[[28]]\n",
        "\n",
        "train = df.drop(28)\n",
        "\n",
        "\n",
        "X = train[['gdp_per_capita']]\n",
        "y = train['life_satisfaction']\n",
        "\n",
        "\n",
        "model.fit(X, y)\n",
        "\n",
        "y_pred = model.predict(test[['gdp_per_capita']])\n",
        "\n",
        "\n",
        "error = mean_squared_error(test['life_satisfaction'], y_pred, squared=False)\n",
        "\n",
        "# Show the error value\n",
        "error\n",
        "Elist.append(error)\n",
        "print(Elist)\n"
      ],
      "metadata": {
        "colab": {
          "base_uri": "https://localhost:8080/"
        },
        "id": "1ksWmhmnO2vo",
        "outputId": "4244bab9-50c4-4e7b-f8cd-55de251aeda7"
      },
      "execution_count": 37,
      "outputs": [
        {
          "output_type": "stream",
          "name": "stdout",
          "text": [
            "[0.20061286273180823, 0.31010071499761604, 0.46356700314145804, 0.793652217594345, 0.1349861347274084, 0.35107494129077477, 0.3510030620974689, 0.03205290928951854, 0.4949656577249595, 0.5628243819525061, 0.8788507893368553, 0.8774005353960401, 0.3528853785211652, 0.056707828518772985, 0.35945993129387865, 0.2600996026992153, 0.36840237391238073, 0.9790749804250067, 1.0848287356389221, 0.24784136083722785, 0.6681327157202865, 0.774886934500242, 0.8132484456157947, 0.804340791661045, 1.2082169584584541, 0.8870869873713723, 0.8655022086293727, 1.13289478020896, 1.3637908260275564]\n"
          ]
        }
      ]
    },
    {
      "cell_type": "code",
      "source": [
        "model = LinearRegression()\n",
        "\n",
        "test = df.iloc[[29]]\n",
        "\n",
        "train = df.drop(29)\n",
        "\n",
        "\n",
        "X = train[['gdp_per_capita']]\n",
        "y = train['life_satisfaction']\n",
        "\n",
        "\n",
        "model.fit(X, y)\n",
        "\n",
        "y_pred = model.predict(test[['gdp_per_capita']])\n",
        "\n",
        "\n",
        "error = mean_squared_error(test['life_satisfaction'], y_pred, squared=False)\n",
        "\n",
        "# Show the error value\n",
        "error\n",
        "Elist.append(error)\n",
        "print(Elist)"
      ],
      "metadata": {
        "colab": {
          "base_uri": "https://localhost:8080/"
        },
        "id": "NiWd3u92OwDc",
        "outputId": "38844a7f-13a0-4856-8693-aca1a76c86a0"
      },
      "execution_count": 40,
      "outputs": [
        {
          "output_type": "stream",
          "name": "stdout",
          "text": [
            "[0.20061286273180823, 0.31010071499761604, 0.46356700314145804, 0.793652217594345, 0.1349861347274084, 0.35107494129077477, 0.3510030620974689, 0.03205290928951854, 0.4949656577249595, 0.5628243819525061, 0.8788507893368553, 0.8774005353960401, 0.3528853785211652, 0.056707828518772985, 0.35945993129387865, 0.2600996026992153, 0.36840237391238073, 0.9790749804250067, 1.0848287356389221, 0.24784136083722785, 0.6681327157202865, 0.774886934500242, 0.8132484456157947, 0.804340791661045, 1.2082169584584541, 0.8870869873713723, 0.8655022086293727, 1.13289478020896, 1.3637908260275564, 1.3637908260275564, 7.712355216108857]\n"
          ]
        }
      ]
    },
    {
      "cell_type": "code",
      "source": [
        "\n",
        "#print(Elist)\n",
        "statistics.mean(Elist)\n"
      ],
      "metadata": {
        "colab": {
          "base_uri": "https://localhost:8080/"
        },
        "id": "mTPehwuHP46T",
        "outputId": "1246153d-3dde-4371-a73f-91c4ed0796d6"
      },
      "execution_count": 41,
      "outputs": [
        {
          "output_type": "execute_result",
          "data": {
            "text/plain": [
              "0.8630528416921557"
            ]
          },
          "metadata": {},
          "execution_count": 41
        }
      ]
    }
  ],
  "metadata": {
    "colab": {
      "collapsed_sections": [],
      "provenance": []
    },
    "kernelspec": {
      "display_name": "Python 3",
      "name": "python3"
    },
    "language_info": {
      "name": "python"
    }
  },
  "nbformat": 4,
  "nbformat_minor": 0
}